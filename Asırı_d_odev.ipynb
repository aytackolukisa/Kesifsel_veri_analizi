{
 "cells": [
  {
   "cell_type": "code",
   "execution_count": 1,
   "metadata": {},
   "outputs": [],
   "source": [
    "import matplotlib.pyplot as plt\n",
    "import pandas as pd\n",
    "import numpy as np\n",
    "import warnings \n",
    "\n",
    "warnings.filterwarnings(\"ignore\")"
   ]
  },
  {
   "cell_type": "code",
   "execution_count": 2,
   "metadata": {},
   "outputs": [],
   "source": [
    "data = pd.read_csv(\"/Users/aytackolukisa/Desktop/Jupiter_Dosyaları/states_all_extended.csv\")"
   ]
  },
  {
   "cell_type": "code",
   "execution_count": 3,
   "metadata": {},
   "outputs": [],
   "source": [
    "df1 = data.drop([\"PRIMARY_KEY\",\"STATE\"],axis=1)"
   ]
  },
  {
   "cell_type": "code",
   "execution_count": 4,
   "metadata": {},
   "outputs": [],
   "source": [
    "def ortalama (variable):\n",
    "    a=df1.groupby('YEAR')[variable].mean()\n",
    "    liste=np.arange(len(a))\n",
    "    for i in liste :\n",
    "        df1[variable].fillna(a.values[i], inplace = True)"
   ]
  },
  {
   "cell_type": "code",
   "execution_count": 5,
   "metadata": {},
   "outputs": [],
   "source": [
    "liste =df1.columns"
   ]
  },
  {
   "cell_type": "code",
   "execution_count": 6,
   "metadata": {},
   "outputs": [],
   "source": [
    "for x in liste:\n",
    "    ortalama(x)"
   ]
  },
  {
   "cell_type": "code",
   "execution_count": 7,
   "metadata": {},
   "outputs": [
    {
     "data": {
      "text/plain": [
       "YEAR                    0.0\n",
       "ENROLL                  0.0\n",
       "TOTAL_REVENUE           0.0\n",
       "FEDERAL_REVENUE         0.0\n",
       "STATE_REVENUE           0.0\n",
       "                       ... \n",
       "G08_AM_A_MATHEMATICS    0.0\n",
       "G08_HP_A_READING        0.0\n",
       "G08_HP_A_MATHEMATICS    0.0\n",
       "G08_TR_A_READING        0.0\n",
       "G08_TR_A_MATHEMATICS    0.0\n",
       "Length: 264, dtype: float64"
      ]
     },
     "execution_count": 7,
     "metadata": {},
     "output_type": "execute_result"
    }
   ],
   "source": [
    "df1.isnull().sum()*100/len(df1)"
   ]
  },
  {
   "cell_type": "code",
   "execution_count": 8,
   "metadata": {},
   "outputs": [],
   "source": [
    "for c in liste:\n",
    "    data[c]=df1[c]"
   ]
  },
  {
   "cell_type": "code",
   "execution_count": 9,
   "metadata": {},
   "outputs": [
    {
     "data": {
      "text/html": [
       "<div>\n",
       "<style scoped>\n",
       "    .dataframe tbody tr th:only-of-type {\n",
       "        vertical-align: middle;\n",
       "    }\n",
       "\n",
       "    .dataframe tbody tr th {\n",
       "        vertical-align: top;\n",
       "    }\n",
       "\n",
       "    .dataframe thead th {\n",
       "        text-align: right;\n",
       "    }\n",
       "</style>\n",
       "<table border=\"1\" class=\"dataframe\">\n",
       "  <thead>\n",
       "    <tr style=\"text-align: right;\">\n",
       "      <th></th>\n",
       "      <th>PRIMARY_KEY</th>\n",
       "      <th>STATE</th>\n",
       "      <th>YEAR</th>\n",
       "      <th>ENROLL</th>\n",
       "      <th>TOTAL_REVENUE</th>\n",
       "      <th>FEDERAL_REVENUE</th>\n",
       "      <th>STATE_REVENUE</th>\n",
       "      <th>LOCAL_REVENUE</th>\n",
       "      <th>TOTAL_EXPENDITURE</th>\n",
       "      <th>INSTRUCTION_EXPENDITURE</th>\n",
       "      <th>...</th>\n",
       "      <th>G08_HI_A_READING</th>\n",
       "      <th>G08_HI_A_MATHEMATICS</th>\n",
       "      <th>G08_AS_A_READING</th>\n",
       "      <th>G08_AS_A_MATHEMATICS</th>\n",
       "      <th>G08_AM_A_READING</th>\n",
       "      <th>G08_AM_A_MATHEMATICS</th>\n",
       "      <th>G08_HP_A_READING</th>\n",
       "      <th>G08_HP_A_MATHEMATICS</th>\n",
       "      <th>G08_TR_A_READING</th>\n",
       "      <th>G08_TR_A_MATHEMATICS</th>\n",
       "    </tr>\n",
       "  </thead>\n",
       "  <tbody>\n",
       "    <tr>\n",
       "      <th>0</th>\n",
       "      <td>1992_ALABAMA</td>\n",
       "      <td>ALABAMA</td>\n",
       "      <td>1992</td>\n",
       "      <td>802054.333333</td>\n",
       "      <td>2678885.0</td>\n",
       "      <td>304177.0</td>\n",
       "      <td>1659028.0</td>\n",
       "      <td>715680.0</td>\n",
       "      <td>2653798.0</td>\n",
       "      <td>1481703.0</td>\n",
       "      <td>...</td>\n",
       "      <td>253.708333</td>\n",
       "      <td>269.897959</td>\n",
       "      <td>276.354839</td>\n",
       "      <td>304.032258</td>\n",
       "      <td>248.307692</td>\n",
       "      <td>260.461538</td>\n",
       "      <td>249.0</td>\n",
       "      <td>266.0</td>\n",
       "      <td>268.5</td>\n",
       "      <td>286.3</td>\n",
       "    </tr>\n",
       "    <tr>\n",
       "      <th>1</th>\n",
       "      <td>1992_ALASKA</td>\n",
       "      <td>ALASKA</td>\n",
       "      <td>1992</td>\n",
       "      <td>802054.333333</td>\n",
       "      <td>1049591.0</td>\n",
       "      <td>106780.0</td>\n",
       "      <td>720711.0</td>\n",
       "      <td>222100.0</td>\n",
       "      <td>972488.0</td>\n",
       "      <td>498362.0</td>\n",
       "      <td>...</td>\n",
       "      <td>253.708333</td>\n",
       "      <td>269.897959</td>\n",
       "      <td>276.354839</td>\n",
       "      <td>304.032258</td>\n",
       "      <td>248.307692</td>\n",
       "      <td>260.461538</td>\n",
       "      <td>249.0</td>\n",
       "      <td>266.0</td>\n",
       "      <td>268.5</td>\n",
       "      <td>286.3</td>\n",
       "    </tr>\n",
       "    <tr>\n",
       "      <th>2</th>\n",
       "      <td>1992_ARIZONA</td>\n",
       "      <td>ARIZONA</td>\n",
       "      <td>1992</td>\n",
       "      <td>802054.333333</td>\n",
       "      <td>3258079.0</td>\n",
       "      <td>297888.0</td>\n",
       "      <td>1369815.0</td>\n",
       "      <td>1590376.0</td>\n",
       "      <td>3401580.0</td>\n",
       "      <td>1435908.0</td>\n",
       "      <td>...</td>\n",
       "      <td>253.708333</td>\n",
       "      <td>269.897959</td>\n",
       "      <td>276.354839</td>\n",
       "      <td>304.032258</td>\n",
       "      <td>248.307692</td>\n",
       "      <td>260.461538</td>\n",
       "      <td>249.0</td>\n",
       "      <td>266.0</td>\n",
       "      <td>268.5</td>\n",
       "      <td>286.3</td>\n",
       "    </tr>\n",
       "    <tr>\n",
       "      <th>3</th>\n",
       "      <td>1992_ARKANSAS</td>\n",
       "      <td>ARKANSAS</td>\n",
       "      <td>1992</td>\n",
       "      <td>802054.333333</td>\n",
       "      <td>1711959.0</td>\n",
       "      <td>178571.0</td>\n",
       "      <td>958785.0</td>\n",
       "      <td>574603.0</td>\n",
       "      <td>1743022.0</td>\n",
       "      <td>964323.0</td>\n",
       "      <td>...</td>\n",
       "      <td>253.708333</td>\n",
       "      <td>269.897959</td>\n",
       "      <td>276.354839</td>\n",
       "      <td>304.032258</td>\n",
       "      <td>248.307692</td>\n",
       "      <td>260.461538</td>\n",
       "      <td>249.0</td>\n",
       "      <td>266.0</td>\n",
       "      <td>268.5</td>\n",
       "      <td>286.3</td>\n",
       "    </tr>\n",
       "    <tr>\n",
       "      <th>4</th>\n",
       "      <td>1992_CALIFORNIA</td>\n",
       "      <td>CALIFORNIA</td>\n",
       "      <td>1992</td>\n",
       "      <td>802054.333333</td>\n",
       "      <td>26260025.0</td>\n",
       "      <td>2072470.0</td>\n",
       "      <td>16546514.0</td>\n",
       "      <td>7641041.0</td>\n",
       "      <td>27138832.0</td>\n",
       "      <td>14358922.0</td>\n",
       "      <td>...</td>\n",
       "      <td>253.708333</td>\n",
       "      <td>269.897959</td>\n",
       "      <td>276.354839</td>\n",
       "      <td>304.032258</td>\n",
       "      <td>248.307692</td>\n",
       "      <td>260.461538</td>\n",
       "      <td>249.0</td>\n",
       "      <td>266.0</td>\n",
       "      <td>268.5</td>\n",
       "      <td>286.3</td>\n",
       "    </tr>\n",
       "  </tbody>\n",
       "</table>\n",
       "<p>5 rows × 266 columns</p>\n",
       "</div>"
      ],
      "text/plain": [
       "       PRIMARY_KEY       STATE  YEAR         ENROLL  TOTAL_REVENUE  \\\n",
       "0     1992_ALABAMA     ALABAMA  1992  802054.333333      2678885.0   \n",
       "1      1992_ALASKA      ALASKA  1992  802054.333333      1049591.0   \n",
       "2     1992_ARIZONA     ARIZONA  1992  802054.333333      3258079.0   \n",
       "3    1992_ARKANSAS    ARKANSAS  1992  802054.333333      1711959.0   \n",
       "4  1992_CALIFORNIA  CALIFORNIA  1992  802054.333333     26260025.0   \n",
       "\n",
       "   FEDERAL_REVENUE  STATE_REVENUE  LOCAL_REVENUE  TOTAL_EXPENDITURE  \\\n",
       "0         304177.0      1659028.0       715680.0          2653798.0   \n",
       "1         106780.0       720711.0       222100.0           972488.0   \n",
       "2         297888.0      1369815.0      1590376.0          3401580.0   \n",
       "3         178571.0       958785.0       574603.0          1743022.0   \n",
       "4        2072470.0     16546514.0      7641041.0         27138832.0   \n",
       "\n",
       "   INSTRUCTION_EXPENDITURE  ...  G08_HI_A_READING  G08_HI_A_MATHEMATICS  \\\n",
       "0                1481703.0  ...        253.708333            269.897959   \n",
       "1                 498362.0  ...        253.708333            269.897959   \n",
       "2                1435908.0  ...        253.708333            269.897959   \n",
       "3                 964323.0  ...        253.708333            269.897959   \n",
       "4               14358922.0  ...        253.708333            269.897959   \n",
       "\n",
       "   G08_AS_A_READING  G08_AS_A_MATHEMATICS  G08_AM_A_READING  \\\n",
       "0        276.354839            304.032258        248.307692   \n",
       "1        276.354839            304.032258        248.307692   \n",
       "2        276.354839            304.032258        248.307692   \n",
       "3        276.354839            304.032258        248.307692   \n",
       "4        276.354839            304.032258        248.307692   \n",
       "\n",
       "   G08_AM_A_MATHEMATICS  G08_HP_A_READING  G08_HP_A_MATHEMATICS  \\\n",
       "0            260.461538             249.0                 266.0   \n",
       "1            260.461538             249.0                 266.0   \n",
       "2            260.461538             249.0                 266.0   \n",
       "3            260.461538             249.0                 266.0   \n",
       "4            260.461538             249.0                 266.0   \n",
       "\n",
       "   G08_TR_A_READING  G08_TR_A_MATHEMATICS  \n",
       "0             268.5                 286.3  \n",
       "1             268.5                 286.3  \n",
       "2             268.5                 286.3  \n",
       "3             268.5                 286.3  \n",
       "4             268.5                 286.3  \n",
       "\n",
       "[5 rows x 266 columns]"
      ]
     },
     "execution_count": 9,
     "metadata": {},
     "output_type": "execute_result"
    }
   ],
   "source": [
    "data.head()"
   ]
  },
  {
   "cell_type": "markdown",
   "metadata": {},
   "source": [
    "## AYKIRI DEĞER TESPİTİ"
   ]
  },
  {
   "cell_type": "markdown",
   "metadata": {},
   "source": [
    "### Görsel Tespit\n",
    "\n",
    "TOTAL_REVENUE ve TOTAL_EXPENDITURE değişkenlerindeki aykırılıkları görsel açıdan tespitini yapalım. Bunun için\n",
    "matplotlib kütüphanesinden boxplot görselleştirme aracını kullanacağız."
   ]
  },
  {
   "cell_type": "code",
   "execution_count": 10,
   "metadata": {},
   "outputs": [
    {
     "data": {
      "image/png": "[encoded data removed]",
      "text/plain": [
       "<Figure size 1080x360 with 2 Axes>"
      ]
     },
     "metadata": {
      "needs_background": "light"
     },
     "output_type": "display_data"
    }
   ],
   "source": [
    "baslik_font = {'family': 'arial', 'color': 'darkred','weight': 'bold','size': 13 }\n",
    "eksen_font  = {'family': 'arial', 'color': 'darkblue','weight': 'bold','size': 10 }\n",
    "\n",
    "\n",
    "plt.figure(figsize = (15,5))\n",
    "plt.subplot(1,2,1)\n",
    "plt.boxplot(data.TOTAL_REVENUE)\n",
    "plt.title(\" TOTAL_REVENUE AYKIRI DEĞERLERİN GÖSTERİMİ \")\n",
    "\n",
    "plt.subplot(1,2,2)\n",
    "plt.boxplot(data.TOTAL_EXPENDITURE)\n",
    "plt.title(\" TOTAL_EXPENDITURE AYKIRI DEĞERLERİN GÖSTERİMİ \")\n",
    "\n",
    "plt.show()"
   ]
  },
  {
   "cell_type": "markdown",
   "metadata": {},
   "source": [
    "Görsel açıdan bakıldığında TOTAL_REVENUE ve TOTAL_EXPENDITURE değişkenlerinde çok sayıda aşırı değer bulunmaktadır. Şimdi bu değişkenleri matematiksel yönden adet ve sayı olarak inceleyelim "
   ]
  },
  {
   "cell_type": "markdown",
   "metadata": {},
   "source": [
    "## Z SCORE"
   ]
  },
  {
   "cell_type": "code",
   "execution_count": 11,
   "metadata": {},
   "outputs": [],
   "source": [
    "from scipy.stats import zscore"
   ]
  },
  {
   "cell_type": "code",
   "execution_count": 12,
   "metadata": {},
   "outputs": [],
   "source": [
    "zscore_TOTAL_REVENUE, zscore_TOTAL_EXPENDITURE = zscore(data.TOTAL_REVENUE),zscore(data.TOTAL_EXPENDITURE)"
   ]
  },
  {
   "cell_type": "code",
   "execution_count": 13,
   "metadata": {},
   "outputs": [
    {
     "name": "stdout",
     "output_type": "stream",
     "text": [
      "1 TOTAL_REVENUE için Eşik sayısı\n",
      "165 TOTAL_REVENUE kapsamında eşiği geçen değer sayısı\n",
      "-----\n",
      "2 TOTAL_REVENUE için Eşik sayısı\n",
      "70 TOTAL_REVENUE kapsamında eşiği geçen değer sayısı\n",
      "-----\n",
      "3 TOTAL_REVENUE için Eşik sayısı\n",
      "43 TOTAL_REVENUE kapsamında eşiği geçen değer sayısı\n",
      "-----\n",
      "4 TOTAL_REVENUE için Eşik sayısı\n",
      "33 TOTAL_REVENUE kapsamında eşiği geçen değer sayısı\n",
      "-----\n"
     ]
    }
   ],
   "source": [
    "for i in range(1,5):\n",
    "    print(\"{} TOTAL_REVENUE için Eşik sayısı\".format(i))\n",
    "    print(\"{} TOTAL_REVENUE kapsamında eşiği geçen değer sayısı\". format(len(np.where(zscore_TOTAL_REVENUE>i)[0])))\n",
    "    print(\"-----\")"
   ]
  },
  {
   "cell_type": "code",
   "execution_count": 14,
   "metadata": {},
   "outputs": [
    {
     "name": "stdout",
     "output_type": "stream",
     "text": [
      "1 TOTAL_EXPENDITURE için Eşik sayısı\n",
      "161 TOTAL_EXPENDITURE kapsamında eşiği geçen değer sayısı\n",
      "-----\n",
      "2 TOTAL_EXPENDITURE için Eşik sayısı\n",
      "67 TOTAL_EXPENDITURE kapsamında eşiği geçen değer sayısı\n",
      "-----\n",
      "3 TOTAL_EXPENDITURE için Eşik sayısı\n",
      "44 TOTAL_EXPENDITURE kapsamında eşiği geçen değer sayısı\n",
      "-----\n",
      "4 TOTAL_EXPENDITURE için Eşik sayısı\n",
      "35 TOTAL_EXPENDITURE kapsamında eşiği geçen değer sayısı\n",
      "-----\n"
     ]
    }
   ],
   "source": [
    "for i in range(1,5):\n",
    "    print(\"{} TOTAL_EXPENDITURE için Eşik sayısı\".format(i))\n",
    "    print(\"{} TOTAL_EXPENDITURE kapsamında eşiği geçen değer sayısı\". format(len(np.where(zscore_TOTAL_EXPENDITURE>i)[0])))\n",
    "    print(\"-----\")"
   ]
  },
  {
   "cell_type": "markdown",
   "metadata": {},
   "source": [
    "## TUKEY YÖNTEMİ"
   ]
  },
  {
   "cell_type": "code",
   "execution_count": 15,
   "metadata": {},
   "outputs": [
    {
     "data": {
      "text/html": [
       "<div>\n",
       "<style scoped>\n",
       "    .dataframe tbody tr th:only-of-type {\n",
       "        vertical-align: middle;\n",
       "    }\n",
       "\n",
       "    .dataframe tbody tr th {\n",
       "        vertical-align: top;\n",
       "    }\n",
       "\n",
       "    .dataframe thead th {\n",
       "        text-align: right;\n",
       "    }\n",
       "</style>\n",
       "<table border=\"1\" class=\"dataframe\">\n",
       "  <thead>\n",
       "    <tr style=\"text-align: right;\">\n",
       "      <th></th>\n",
       "      <th>esik_degeri_TOTAL_EXPENDITURE</th>\n",
       "      <th>asigi_deger_sayısı_TOTAL_EXPENDITURE</th>\n",
       "    </tr>\n",
       "  </thead>\n",
       "  <tbody>\n",
       "    <tr>\n",
       "      <th>0</th>\n",
       "      <td>0.0</td>\n",
       "      <td>858.0</td>\n",
       "    </tr>\n",
       "    <tr>\n",
       "      <th>1</th>\n",
       "      <td>0.5</td>\n",
       "      <td>315.0</td>\n",
       "    </tr>\n",
       "    <tr>\n",
       "      <th>2</th>\n",
       "      <td>1.0</td>\n",
       "      <td>246.0</td>\n",
       "    </tr>\n",
       "    <tr>\n",
       "      <th>3</th>\n",
       "      <td>1.5</td>\n",
       "      <td>195.0</td>\n",
       "    </tr>\n",
       "    <tr>\n",
       "      <th>4</th>\n",
       "      <td>2.0</td>\n",
       "      <td>160.0</td>\n",
       "    </tr>\n",
       "    <tr>\n",
       "      <th>5</th>\n",
       "      <td>2.5</td>\n",
       "      <td>134.0</td>\n",
       "    </tr>\n",
       "    <tr>\n",
       "      <th>6</th>\n",
       "      <td>3.0</td>\n",
       "      <td>109.0</td>\n",
       "    </tr>\n",
       "    <tr>\n",
       "      <th>7</th>\n",
       "      <td>3.5</td>\n",
       "      <td>95.0</td>\n",
       "    </tr>\n",
       "    <tr>\n",
       "      <th>8</th>\n",
       "      <td>4.0</td>\n",
       "      <td>67.0</td>\n",
       "    </tr>\n",
       "    <tr>\n",
       "      <th>9</th>\n",
       "      <td>4.5</td>\n",
       "      <td>56.0</td>\n",
       "    </tr>\n",
       "  </tbody>\n",
       "</table>\n",
       "</div>"
      ],
      "text/plain": [
       "   esik_degeri_TOTAL_EXPENDITURE  asigi_deger_sayısı_TOTAL_EXPENDITURE\n",
       "0                            0.0                                 858.0\n",
       "1                            0.5                                 315.0\n",
       "2                            1.0                                 246.0\n",
       "3                            1.5                                 195.0\n",
       "4                            2.0                                 160.0\n",
       "5                            2.5                                 134.0\n",
       "6                            3.0                                 109.0\n",
       "7                            3.5                                  95.0\n",
       "8                            4.0                                  67.0\n",
       "9                            4.5                                  56.0"
      ]
     },
     "execution_count": 15,
     "metadata": {},
     "output_type": "execute_result"
    }
   ],
   "source": [
    "eksik_degerler_TOTAL_EXPENDITURE = pd.DataFrame( columns = [\"esik_degeri_TOTAL_EXPENDITURE\", \"asigi_deger_sayısı_TOTAL_EXPENDITURE\"] )\n",
    "Q1,Q3 = np.percentile(data.TOTAL_EXPENDITURE,[25,75])\n",
    "step=Q3-Q1\n",
    "for i in np.arange(0,5,0.5):\n",
    "    max_sinir = Q3+step*i\n",
    "    min_sinir = Q1-step*i\n",
    "    asigi_deger_sayısı_TOTAL_EXPENDITURE = len(np.where((data.TOTAL_EXPENDITURE > max_sinir ) | (data.TOTAL_EXPENDITURE < min_sinir ))[0])\n",
    "    eksik_degerler_TOTAL_EXPENDITURE = eksik_degerler_TOTAL_EXPENDITURE.append({ \"esik_degeri_TOTAL_EXPENDITURE\" : i, \"asigi_deger_sayısı_TOTAL_EXPENDITURE\" : asigi_deger_sayısı_TOTAL_EXPENDITURE}, ignore_index=True)\n",
    "    \n",
    "eksik_degerler_TOTAL_EXPENDITURE    "
   ]
  },
  {
   "cell_type": "code",
   "execution_count": 16,
   "metadata": {},
   "outputs": [
    {
     "data": {
      "text/html": [
       "<div>\n",
       "<style scoped>\n",
       "    .dataframe tbody tr th:only-of-type {\n",
       "        vertical-align: middle;\n",
       "    }\n",
       "\n",
       "    .dataframe tbody tr th {\n",
       "        vertical-align: top;\n",
       "    }\n",
       "\n",
       "    .dataframe thead th {\n",
       "        text-align: right;\n",
       "    }\n",
       "</style>\n",
       "<table border=\"1\" class=\"dataframe\">\n",
       "  <thead>\n",
       "    <tr style=\"text-align: right;\">\n",
       "      <th></th>\n",
       "      <th>esik_degeri_TOTAL_REVENUE</th>\n",
       "      <th>asigi_deger_sayısı_TOTAL_REVENUE</th>\n",
       "    </tr>\n",
       "  </thead>\n",
       "  <tbody>\n",
       "    <tr>\n",
       "      <th>0</th>\n",
       "      <td>0.0</td>\n",
       "      <td>858.0</td>\n",
       "    </tr>\n",
       "    <tr>\n",
       "      <th>1</th>\n",
       "      <td>0.5</td>\n",
       "      <td>321.0</td>\n",
       "    </tr>\n",
       "    <tr>\n",
       "      <th>2</th>\n",
       "      <td>1.0</td>\n",
       "      <td>246.0</td>\n",
       "    </tr>\n",
       "    <tr>\n",
       "      <th>3</th>\n",
       "      <td>1.5</td>\n",
       "      <td>195.0</td>\n",
       "    </tr>\n",
       "    <tr>\n",
       "      <th>4</th>\n",
       "      <td>2.0</td>\n",
       "      <td>161.0</td>\n",
       "    </tr>\n",
       "    <tr>\n",
       "      <th>5</th>\n",
       "      <td>2.5</td>\n",
       "      <td>132.0</td>\n",
       "    </tr>\n",
       "    <tr>\n",
       "      <th>6</th>\n",
       "      <td>3.0</td>\n",
       "      <td>111.0</td>\n",
       "    </tr>\n",
       "    <tr>\n",
       "      <th>7</th>\n",
       "      <td>3.5</td>\n",
       "      <td>90.0</td>\n",
       "    </tr>\n",
       "    <tr>\n",
       "      <th>8</th>\n",
       "      <td>4.0</td>\n",
       "      <td>70.0</td>\n",
       "    </tr>\n",
       "    <tr>\n",
       "      <th>9</th>\n",
       "      <td>4.5</td>\n",
       "      <td>54.0</td>\n",
       "    </tr>\n",
       "  </tbody>\n",
       "</table>\n",
       "</div>"
      ],
      "text/plain": [
       "   esik_degeri_TOTAL_REVENUE  asigi_deger_sayısı_TOTAL_REVENUE\n",
       "0                        0.0                             858.0\n",
       "1                        0.5                             321.0\n",
       "2                        1.0                             246.0\n",
       "3                        1.5                             195.0\n",
       "4                        2.0                             161.0\n",
       "5                        2.5                             132.0\n",
       "6                        3.0                             111.0\n",
       "7                        3.5                              90.0\n",
       "8                        4.0                              70.0\n",
       "9                        4.5                              54.0"
      ]
     },
     "execution_count": 16,
     "metadata": {},
     "output_type": "execute_result"
    }
   ],
   "source": [
    "eksik_degerler_TOTAL_REVENUE = pd.DataFrame(columns = [\"esik_degeri_TOTAL_REVENUE\",\"asigi_deger_sayısı_TOTAL_REVENUE\"])\n",
    "Q3,Q1 = np.percentile(data.TOTAL_REVENUE, [75,25])\n",
    "step = Q3-Q1\n",
    "for i in np.arange(0,5,0.5):\n",
    "    max_sinir = Q3+step*i\n",
    "    min_sinir = Q1-step*i\n",
    "    asiri_deger_TOTAL_REVENUE = len(np.where((data.TOTAL_REVENUE > max_sinir) | (data.TOTAL_REVENUE < min_sinir))[0])\n",
    "    eksik_degerler_TOTAL_REVENUE = eksik_degerler_TOTAL_REVENUE.append( {\"esik_degeri_TOTAL_REVENUE\" : i, \"asigi_deger_sayısı_TOTAL_REVENUE\" : asiri_deger_TOTAL_REVENUE},ignore_index=True)\n",
    "\n",
    "eksik_degerler_TOTAL_REVENUE"
   ]
  },
  {
   "cell_type": "markdown",
   "metadata": {},
   "source": [
    "## AYKIRI DEĞERLERİN SINIRLANDIRILMASI"
   ]
  },
  {
   "cell_type": "markdown",
   "metadata": {},
   "source": [
    "### WINSORİZATION"
   ]
  },
  {
   "cell_type": "code",
   "execution_count": 17,
   "metadata": {},
   "outputs": [],
   "source": [
    "from scipy.stats.mstats import winsorize\n",
    "\n",
    "winsorize_TOTAL_REVENUE = winsorize(data.TOTAL_REVENUE, (0,0.115))\n",
    "winsorize_TOTAL_EXPENDITURE = winsorize(data.TOTAL_REVENUE, (0,0.115))"
   ]
  },
  {
   "cell_type": "code",
   "execution_count": 18,
   "metadata": {},
   "outputs": [
    {
     "data": {
      "image/png": "[encoded data removed]",
      "text/plain": [
       "<Figure size 1080x360 with 2 Axes>"
      ]
     },
     "metadata": {
      "needs_background": "light"
     },
     "output_type": "display_data"
    }
   ],
   "source": [
    "plt.figure(figsize =(15,5))\n",
    "plt.subplot(1,2,1)\n",
    "plt.boxplot(winsorize_TOTAL_REVENUE)\n",
    "plt.title(\"Winsorize yöntemi ile düzeltilmiş TOTAL_REVENUE whis = 1.15\")\n",
    "\n",
    "plt.subplot(1,2,2)\n",
    "plt.boxplot(winsorize_TOTAL_EXPENDITURE)\n",
    "plt.title(\"Winsorize yöntemi ile düzeltilmiş TOTAL_EXPENDITURE whis = 1.15\")\n",
    "plt.show()"
   ]
  },
  {
   "cell_type": "markdown",
   "metadata": {},
   "source": [
    "## AYKIRI DEĞERLERİ DÖNÜŞTÜRME"
   ]
  },
  {
   "cell_type": "code",
   "execution_count": 19,
   "metadata": {},
   "outputs": [
    {
     "data": {
      "text/plain": [
       "1715"
      ]
     },
     "execution_count": 19,
     "metadata": {},
     "output_type": "execute_result"
    }
   ],
   "source": [
    "len(winsorize_TOTAL_REVENUE)"
   ]
  },
  {
   "cell_type": "code",
   "execution_count": 20,
   "metadata": {},
   "outputs": [
    {
     "data": {
      "text/plain": [
       "1715"
      ]
     },
     "execution_count": 20,
     "metadata": {},
     "output_type": "execute_result"
    }
   ],
   "source": [
    "len(data.TOTAL_REVENUE)"
   ]
  },
  {
   "cell_type": "code",
   "execution_count": 21,
   "metadata": {},
   "outputs": [],
   "source": [
    "data.TOTAL_REVENUE=winsorize_TOTAL_REVENUE"
   ]
  },
  {
   "cell_type": "code",
   "execution_count": 22,
   "metadata": {
    "scrolled": true
   },
   "outputs": [
    {
     "data": {
      "text/html": [
       "<div>\n",
       "<style scoped>\n",
       "    .dataframe tbody tr th:only-of-type {\n",
       "        vertical-align: middle;\n",
       "    }\n",
       "\n",
       "    .dataframe tbody tr th {\n",
       "        vertical-align: top;\n",
       "    }\n",
       "\n",
       "    .dataframe thead th {\n",
       "        text-align: right;\n",
       "    }\n",
       "</style>\n",
       "<table border=\"1\" class=\"dataframe\">\n",
       "  <thead>\n",
       "    <tr style=\"text-align: right;\">\n",
       "      <th></th>\n",
       "      <th>esik_degeri_TOTAL_REVENUE</th>\n",
       "      <th>asigi_deger_sayısı_TOTAL_REVENUE</th>\n",
       "    </tr>\n",
       "  </thead>\n",
       "  <tbody>\n",
       "    <tr>\n",
       "      <th>0</th>\n",
       "      <td>0.0</td>\n",
       "      <td>858.0</td>\n",
       "    </tr>\n",
       "    <tr>\n",
       "      <th>1</th>\n",
       "      <td>0.5</td>\n",
       "      <td>321.0</td>\n",
       "    </tr>\n",
       "    <tr>\n",
       "      <th>2</th>\n",
       "      <td>1.0</td>\n",
       "      <td>246.0</td>\n",
       "    </tr>\n",
       "    <tr>\n",
       "      <th>3</th>\n",
       "      <td>1.5</td>\n",
       "      <td>0.0</td>\n",
       "    </tr>\n",
       "    <tr>\n",
       "      <th>4</th>\n",
       "      <td>2.0</td>\n",
       "      <td>0.0</td>\n",
       "    </tr>\n",
       "    <tr>\n",
       "      <th>5</th>\n",
       "      <td>2.5</td>\n",
       "      <td>0.0</td>\n",
       "    </tr>\n",
       "    <tr>\n",
       "      <th>6</th>\n",
       "      <td>3.0</td>\n",
       "      <td>0.0</td>\n",
       "    </tr>\n",
       "    <tr>\n",
       "      <th>7</th>\n",
       "      <td>3.5</td>\n",
       "      <td>0.0</td>\n",
       "    </tr>\n",
       "    <tr>\n",
       "      <th>8</th>\n",
       "      <td>4.0</td>\n",
       "      <td>0.0</td>\n",
       "    </tr>\n",
       "    <tr>\n",
       "      <th>9</th>\n",
       "      <td>4.5</td>\n",
       "      <td>0.0</td>\n",
       "    </tr>\n",
       "  </tbody>\n",
       "</table>\n",
       "</div>"
      ],
      "text/plain": [
       "   esik_degeri_TOTAL_REVENUE  asigi_deger_sayısı_TOTAL_REVENUE\n",
       "0                        0.0                             858.0\n",
       "1                        0.5                             321.0\n",
       "2                        1.0                             246.0\n",
       "3                        1.5                               0.0\n",
       "4                        2.0                               0.0\n",
       "5                        2.5                               0.0\n",
       "6                        3.0                               0.0\n",
       "7                        3.5                               0.0\n",
       "8                        4.0                               0.0\n",
       "9                        4.5                               0.0"
      ]
     },
     "execution_count": 22,
     "metadata": {},
     "output_type": "execute_result"
    }
   ],
   "source": [
    "eksik_degerler_TOTAL_REVENUE = pd.DataFrame(columns = [\"esik_degeri_TOTAL_REVENUE\",\"asigi_deger_sayısı_TOTAL_REVENUE\"])\n",
    "Q3,Q1 = np.percentile(data.TOTAL_REVENUE, [75,25])\n",
    "step = Q3-Q1\n",
    "for i in np.arange(0,5,0.5):\n",
    "    max_sinir = Q3+step*i\n",
    "    min_sinir = Q1-step*i\n",
    "    asiri_deger_TOTAL_REVENUE = len(np.where((data.TOTAL_REVENUE > max_sinir) | (data.TOTAL_REVENUE < min_sinir))[0])\n",
    "    eksik_degerler_TOTAL_REVENUE = eksik_degerler_TOTAL_REVENUE.append( {\"esik_degeri_TOTAL_REVENUE\" : i, \"asigi_deger_sayısı_TOTAL_REVENUE\" : asiri_deger_TOTAL_REVENUE},ignore_index=True)\n",
    "\n",
    "eksik_degerler_TOTAL_REVENUE"
   ]
  },
  {
   "cell_type": "code",
   "execution_count": 23,
   "metadata": {},
   "outputs": [],
   "source": [
    "data.TOTAL_EXPENDITURE=winsorize_TOTAL_EXPENDITURE"
   ]
  },
  {
   "cell_type": "code",
   "execution_count": 24,
   "metadata": {},
   "outputs": [
    {
     "data": {
      "text/html": [
       "<div>\n",
       "<style scoped>\n",
       "    .dataframe tbody tr th:only-of-type {\n",
       "        vertical-align: middle;\n",
       "    }\n",
       "\n",
       "    .dataframe tbody tr th {\n",
       "        vertical-align: top;\n",
       "    }\n",
       "\n",
       "    .dataframe thead th {\n",
       "        text-align: right;\n",
       "    }\n",
       "</style>\n",
       "<table border=\"1\" class=\"dataframe\">\n",
       "  <thead>\n",
       "    <tr style=\"text-align: right;\">\n",
       "      <th></th>\n",
       "      <th>esik_degeri_TOTAL_EXPENDITURE</th>\n",
       "      <th>asigi_deger_sayısı_TOTAL_EXPENDITURE</th>\n",
       "    </tr>\n",
       "  </thead>\n",
       "  <tbody>\n",
       "    <tr>\n",
       "      <th>0</th>\n",
       "      <td>0.0</td>\n",
       "      <td>858.0</td>\n",
       "    </tr>\n",
       "    <tr>\n",
       "      <th>1</th>\n",
       "      <td>0.5</td>\n",
       "      <td>321.0</td>\n",
       "    </tr>\n",
       "    <tr>\n",
       "      <th>2</th>\n",
       "      <td>1.0</td>\n",
       "      <td>246.0</td>\n",
       "    </tr>\n",
       "    <tr>\n",
       "      <th>3</th>\n",
       "      <td>1.5</td>\n",
       "      <td>0.0</td>\n",
       "    </tr>\n",
       "    <tr>\n",
       "      <th>4</th>\n",
       "      <td>2.0</td>\n",
       "      <td>0.0</td>\n",
       "    </tr>\n",
       "    <tr>\n",
       "      <th>5</th>\n",
       "      <td>2.5</td>\n",
       "      <td>0.0</td>\n",
       "    </tr>\n",
       "    <tr>\n",
       "      <th>6</th>\n",
       "      <td>3.0</td>\n",
       "      <td>0.0</td>\n",
       "    </tr>\n",
       "    <tr>\n",
       "      <th>7</th>\n",
       "      <td>3.5</td>\n",
       "      <td>0.0</td>\n",
       "    </tr>\n",
       "    <tr>\n",
       "      <th>8</th>\n",
       "      <td>4.0</td>\n",
       "      <td>0.0</td>\n",
       "    </tr>\n",
       "    <tr>\n",
       "      <th>9</th>\n",
       "      <td>4.5</td>\n",
       "      <td>0.0</td>\n",
       "    </tr>\n",
       "  </tbody>\n",
       "</table>\n",
       "</div>"
      ],
      "text/plain": [
       "   esik_degeri_TOTAL_EXPENDITURE  asigi_deger_sayısı_TOTAL_EXPENDITURE\n",
       "0                            0.0                                 858.0\n",
       "1                            0.5                                 321.0\n",
       "2                            1.0                                 246.0\n",
       "3                            1.5                                   0.0\n",
       "4                            2.0                                   0.0\n",
       "5                            2.5                                   0.0\n",
       "6                            3.0                                   0.0\n",
       "7                            3.5                                   0.0\n",
       "8                            4.0                                   0.0\n",
       "9                            4.5                                   0.0"
      ]
     },
     "execution_count": 24,
     "metadata": {},
     "output_type": "execute_result"
    }
   ],
   "source": [
    "eksik_degerler_TOTAL_EXPENDITURE = pd.DataFrame( columns = [\"esik_degeri_TOTAL_EXPENDITURE\", \"asigi_deger_sayısı_TOTAL_EXPENDITURE\"] )\n",
    "Q1,Q3 = np.percentile(data.TOTAL_EXPENDITURE,[25,75])\n",
    "step=Q3-Q1\n",
    "for i in np.arange(0,5,0.5):\n",
    "    max_sinir = Q3+step*i\n",
    "    min_sinir = Q1-step*i\n",
    "    asigi_deger_sayısı_TOTAL_EXPENDITURE = len(np.where((data.TOTAL_EXPENDITURE > max_sinir ) | (data.TOTAL_EXPENDITURE < min_sinir ))[0])\n",
    "    eksik_degerler_TOTAL_EXPENDITURE = eksik_degerler_TOTAL_EXPENDITURE.append({ \"esik_degeri_TOTAL_EXPENDITURE\" : i, \"asigi_deger_sayısı_TOTAL_EXPENDITURE\" : asigi_deger_sayısı_TOTAL_EXPENDITURE}, ignore_index=True)\n",
    "    \n",
    "eksik_degerler_TOTAL_EXPENDITURE "
   ]
  },
  {
   "cell_type": "markdown",
   "metadata": {},
   "source": [
    "Yukarıda yapılan işlemleri incelendiğinde winsorize yöntemi ile verilerimiz sınırlandırdığımız takdirdiğinde eşik değeri 1.0\n",
    "dan büyük olan tüm aykırı değerlerin eleminize olduğunu görüyoruz."
   ]
  },
  {
   "cell_type": "markdown",
   "metadata": {},
   "source": [
    "## AYKIRI DEĞERLERİ DÖNÜŞTÜRME\n"
   ]
  },
  {
   "cell_type": "code",
   "execution_count": 25,
   "metadata": {},
   "outputs": [],
   "source": [
    "# Yukarıdaki verileri bozmamak için yeni bi dataframe oluşturalım\n",
    "df = pd.read_csv(\"/Users/aytackolukisa/Desktop/Jupiter_Dosyaları/states_all_extended.csv\")"
   ]
  },
  {
   "cell_type": "code",
   "execution_count": 26,
   "metadata": {},
   "outputs": [],
   "source": [
    "df1 = df.drop([\"PRIMARY_KEY\",\"STATE\"],axis=1)"
   ]
  },
  {
   "cell_type": "code",
   "execution_count": 27,
   "metadata": {},
   "outputs": [],
   "source": [
    "def ortalama (variable):\n",
    "    a=df1.groupby('YEAR')[variable].mean()\n",
    "    liste=np.arange(len(a))\n",
    "    for i in liste :\n",
    "        df1[variable].fillna(a.values[i], inplace = True)"
   ]
  },
  {
   "cell_type": "code",
   "execution_count": 28,
   "metadata": {},
   "outputs": [],
   "source": [
    "liste =df1.columns"
   ]
  },
  {
   "cell_type": "code",
   "execution_count": 29,
   "metadata": {},
   "outputs": [],
   "source": [
    "for x in liste:\n",
    "    ortalama(x)"
   ]
  },
  {
   "cell_type": "code",
   "execution_count": 30,
   "metadata": {},
   "outputs": [
    {
     "data": {
      "text/plain": [
       "YEAR                    0.0\n",
       "ENROLL                  0.0\n",
       "TOTAL_REVENUE           0.0\n",
       "FEDERAL_REVENUE         0.0\n",
       "STATE_REVENUE           0.0\n",
       "                       ... \n",
       "G08_AM_A_MATHEMATICS    0.0\n",
       "G08_HP_A_READING        0.0\n",
       "G08_HP_A_MATHEMATICS    0.0\n",
       "G08_TR_A_READING        0.0\n",
       "G08_TR_A_MATHEMATICS    0.0\n",
       "Length: 264, dtype: float64"
      ]
     },
     "execution_count": 30,
     "metadata": {},
     "output_type": "execute_result"
    }
   ],
   "source": [
    "df1.isnull().sum()*100/len(df1)"
   ]
  },
  {
   "cell_type": "code",
   "execution_count": 31,
   "metadata": {},
   "outputs": [],
   "source": [
    "for c in liste:\n",
    "    df[c]=df1[c]"
   ]
  },
  {
   "cell_type": "code",
   "execution_count": 32,
   "metadata": {},
   "outputs": [
    {
     "data": {
      "text/html": [
       "<div>\n",
       "<style scoped>\n",
       "    .dataframe tbody tr th:only-of-type {\n",
       "        vertical-align: middle;\n",
       "    }\n",
       "\n",
       "    .dataframe tbody tr th {\n",
       "        vertical-align: top;\n",
       "    }\n",
       "\n",
       "    .dataframe thead th {\n",
       "        text-align: right;\n",
       "    }\n",
       "</style>\n",
       "<table border=\"1\" class=\"dataframe\">\n",
       "  <thead>\n",
       "    <tr style=\"text-align: right;\">\n",
       "      <th></th>\n",
       "      <th>PRIMARY_KEY</th>\n",
       "      <th>STATE</th>\n",
       "      <th>YEAR</th>\n",
       "      <th>ENROLL</th>\n",
       "      <th>TOTAL_REVENUE</th>\n",
       "      <th>FEDERAL_REVENUE</th>\n",
       "      <th>STATE_REVENUE</th>\n",
       "      <th>LOCAL_REVENUE</th>\n",
       "      <th>TOTAL_EXPENDITURE</th>\n",
       "      <th>INSTRUCTION_EXPENDITURE</th>\n",
       "      <th>...</th>\n",
       "      <th>G08_HI_A_READING</th>\n",
       "      <th>G08_HI_A_MATHEMATICS</th>\n",
       "      <th>G08_AS_A_READING</th>\n",
       "      <th>G08_AS_A_MATHEMATICS</th>\n",
       "      <th>G08_AM_A_READING</th>\n",
       "      <th>G08_AM_A_MATHEMATICS</th>\n",
       "      <th>G08_HP_A_READING</th>\n",
       "      <th>G08_HP_A_MATHEMATICS</th>\n",
       "      <th>G08_TR_A_READING</th>\n",
       "      <th>G08_TR_A_MATHEMATICS</th>\n",
       "    </tr>\n",
       "  </thead>\n",
       "  <tbody>\n",
       "    <tr>\n",
       "      <th>0</th>\n",
       "      <td>1992_ALABAMA</td>\n",
       "      <td>ALABAMA</td>\n",
       "      <td>1992</td>\n",
       "      <td>802054.333333</td>\n",
       "      <td>2678885.0</td>\n",
       "      <td>304177.0</td>\n",
       "      <td>1659028.0</td>\n",
       "      <td>715680.0</td>\n",
       "      <td>2653798.0</td>\n",
       "      <td>1481703.0</td>\n",
       "      <td>...</td>\n",
       "      <td>253.708333</td>\n",
       "      <td>269.897959</td>\n",
       "      <td>276.354839</td>\n",
       "      <td>304.032258</td>\n",
       "      <td>248.307692</td>\n",
       "      <td>260.461538</td>\n",
       "      <td>249.0</td>\n",
       "      <td>266.0</td>\n",
       "      <td>268.5</td>\n",
       "      <td>286.3</td>\n",
       "    </tr>\n",
       "    <tr>\n",
       "      <th>1</th>\n",
       "      <td>1992_ALASKA</td>\n",
       "      <td>ALASKA</td>\n",
       "      <td>1992</td>\n",
       "      <td>802054.333333</td>\n",
       "      <td>1049591.0</td>\n",
       "      <td>106780.0</td>\n",
       "      <td>720711.0</td>\n",
       "      <td>222100.0</td>\n",
       "      <td>972488.0</td>\n",
       "      <td>498362.0</td>\n",
       "      <td>...</td>\n",
       "      <td>253.708333</td>\n",
       "      <td>269.897959</td>\n",
       "      <td>276.354839</td>\n",
       "      <td>304.032258</td>\n",
       "      <td>248.307692</td>\n",
       "      <td>260.461538</td>\n",
       "      <td>249.0</td>\n",
       "      <td>266.0</td>\n",
       "      <td>268.5</td>\n",
       "      <td>286.3</td>\n",
       "    </tr>\n",
       "    <tr>\n",
       "      <th>2</th>\n",
       "      <td>1992_ARIZONA</td>\n",
       "      <td>ARIZONA</td>\n",
       "      <td>1992</td>\n",
       "      <td>802054.333333</td>\n",
       "      <td>3258079.0</td>\n",
       "      <td>297888.0</td>\n",
       "      <td>1369815.0</td>\n",
       "      <td>1590376.0</td>\n",
       "      <td>3401580.0</td>\n",
       "      <td>1435908.0</td>\n",
       "      <td>...</td>\n",
       "      <td>253.708333</td>\n",
       "      <td>269.897959</td>\n",
       "      <td>276.354839</td>\n",
       "      <td>304.032258</td>\n",
       "      <td>248.307692</td>\n",
       "      <td>260.461538</td>\n",
       "      <td>249.0</td>\n",
       "      <td>266.0</td>\n",
       "      <td>268.5</td>\n",
       "      <td>286.3</td>\n",
       "    </tr>\n",
       "    <tr>\n",
       "      <th>3</th>\n",
       "      <td>1992_ARKANSAS</td>\n",
       "      <td>ARKANSAS</td>\n",
       "      <td>1992</td>\n",
       "      <td>802054.333333</td>\n",
       "      <td>1711959.0</td>\n",
       "      <td>178571.0</td>\n",
       "      <td>958785.0</td>\n",
       "      <td>574603.0</td>\n",
       "      <td>1743022.0</td>\n",
       "      <td>964323.0</td>\n",
       "      <td>...</td>\n",
       "      <td>253.708333</td>\n",
       "      <td>269.897959</td>\n",
       "      <td>276.354839</td>\n",
       "      <td>304.032258</td>\n",
       "      <td>248.307692</td>\n",
       "      <td>260.461538</td>\n",
       "      <td>249.0</td>\n",
       "      <td>266.0</td>\n",
       "      <td>268.5</td>\n",
       "      <td>286.3</td>\n",
       "    </tr>\n",
       "    <tr>\n",
       "      <th>4</th>\n",
       "      <td>1992_CALIFORNIA</td>\n",
       "      <td>CALIFORNIA</td>\n",
       "      <td>1992</td>\n",
       "      <td>802054.333333</td>\n",
       "      <td>26260025.0</td>\n",
       "      <td>2072470.0</td>\n",
       "      <td>16546514.0</td>\n",
       "      <td>7641041.0</td>\n",
       "      <td>27138832.0</td>\n",
       "      <td>14358922.0</td>\n",
       "      <td>...</td>\n",
       "      <td>253.708333</td>\n",
       "      <td>269.897959</td>\n",
       "      <td>276.354839</td>\n",
       "      <td>304.032258</td>\n",
       "      <td>248.307692</td>\n",
       "      <td>260.461538</td>\n",
       "      <td>249.0</td>\n",
       "      <td>266.0</td>\n",
       "      <td>268.5</td>\n",
       "      <td>286.3</td>\n",
       "    </tr>\n",
       "  </tbody>\n",
       "</table>\n",
       "<p>5 rows × 266 columns</p>\n",
       "</div>"
      ],
      "text/plain": [
       "       PRIMARY_KEY       STATE  YEAR         ENROLL  TOTAL_REVENUE  \\\n",
       "0     1992_ALABAMA     ALABAMA  1992  802054.333333      2678885.0   \n",
       "1      1992_ALASKA      ALASKA  1992  802054.333333      1049591.0   \n",
       "2     1992_ARIZONA     ARIZONA  1992  802054.333333      3258079.0   \n",
       "3    1992_ARKANSAS    ARKANSAS  1992  802054.333333      1711959.0   \n",
       "4  1992_CALIFORNIA  CALIFORNIA  1992  802054.333333     26260025.0   \n",
       "\n",
       "   FEDERAL_REVENUE  STATE_REVENUE  LOCAL_REVENUE  TOTAL_EXPENDITURE  \\\n",
       "0         304177.0      1659028.0       715680.0          2653798.0   \n",
       "1         106780.0       720711.0       222100.0           972488.0   \n",
       "2         297888.0      1369815.0      1590376.0          3401580.0   \n",
       "3         178571.0       958785.0       574603.0          1743022.0   \n",
       "4        2072470.0     16546514.0      7641041.0         27138832.0   \n",
       "\n",
       "   INSTRUCTION_EXPENDITURE  ...  G08_HI_A_READING  G08_HI_A_MATHEMATICS  \\\n",
       "0                1481703.0  ...        253.708333            269.897959   \n",
       "1                 498362.0  ...        253.708333            269.897959   \n",
       "2                1435908.0  ...        253.708333            269.897959   \n",
       "3                 964323.0  ...        253.708333            269.897959   \n",
       "4               14358922.0  ...        253.708333            269.897959   \n",
       "\n",
       "   G08_AS_A_READING  G08_AS_A_MATHEMATICS  G08_AM_A_READING  \\\n",
       "0        276.354839            304.032258        248.307692   \n",
       "1        276.354839            304.032258        248.307692   \n",
       "2        276.354839            304.032258        248.307692   \n",
       "3        276.354839            304.032258        248.307692   \n",
       "4        276.354839            304.032258        248.307692   \n",
       "\n",
       "   G08_AM_A_MATHEMATICS  G08_HP_A_READING  G08_HP_A_MATHEMATICS  \\\n",
       "0            260.461538             249.0                 266.0   \n",
       "1            260.461538             249.0                 266.0   \n",
       "2            260.461538             249.0                 266.0   \n",
       "3            260.461538             249.0                 266.0   \n",
       "4            260.461538             249.0                 266.0   \n",
       "\n",
       "   G08_TR_A_READING  G08_TR_A_MATHEMATICS  \n",
       "0             268.5                 286.3  \n",
       "1             268.5                 286.3  \n",
       "2             268.5                 286.3  \n",
       "3             268.5                 286.3  \n",
       "4             268.5                 286.3  \n",
       "\n",
       "[5 rows x 266 columns]"
      ]
     },
     "execution_count": 32,
     "metadata": {},
     "output_type": "execute_result"
    }
   ],
   "source": [
    "df.head()"
   ]
  },
  {
   "cell_type": "code",
   "execution_count": 33,
   "metadata": {},
   "outputs": [
    {
     "data": {
      "image/png": "[encoded data removed]",
      "text/plain": [
       "<Figure size 1080x360 with 2 Axes>"
      ]
     },
     "metadata": {
      "needs_background": "light"
     },
     "output_type": "display_data"
    },
    {
     "data": {
      "image/png": "[encoded data removed]",
      "text/plain": [
       "<Figure size 1080x360 with 2 Axes>"
      ]
     },
     "metadata": {
      "needs_background": "light"
     },
     "output_type": "display_data"
    }
   ],
   "source": [
    "baslik_font = {'family': 'arial', 'color': 'darkred','weight': 'bold','size': 13 }\n",
    "eksen_font  = {'family': 'arial', 'color': 'darkblue','weight': 'bold','size': 10 }\n",
    "\n",
    "\n",
    "plt.figure(figsize = (15,5))\n",
    "plt.subplot(1,2,1)\n",
    "plt.boxplot(df.TOTAL_REVENUE)\n",
    "plt.title(\" TOTAL_REVENUE AYKIRI DEĞERLERİN GÖSTERİMİ \")\n",
    "\n",
    "plt.subplot(1,2,2)\n",
    "plt.boxplot(df.TOTAL_EXPENDITURE)\n",
    "plt.title(\" TOTAL_EXPENDITURE AYKIRI DEĞERLERİN GÖSTERİMİ \")\n",
    "\n",
    "plt.figure(figsize = (15,5))\n",
    "plt.subplot(2,2,1)\n",
    "plt.boxplot(np.log(df.TOTAL_REVENUE))\n",
    "plt.title(\"LOGARİTMİK TOTAL_REVENUE AYKIRI DEĞERLERİN GÖSTERİMİ \")\n",
    "\n",
    "plt.subplot(2,2,2)\n",
    "plt.boxplot(np.log(df.TOTAL_EXPENDITURE))\n",
    "plt.title(\"LOGARİTMİK TOTAL_EXPENDITURE AYKIRI DEĞERLERİN GÖSTERİMİ \")\n",
    "plt.show()"
   ]
  },
  {
   "cell_type": "code",
   "execution_count": 34,
   "metadata": {},
   "outputs": [],
   "source": [
    "# Logaritmik scalayı nasıl ayarlayacağız bulamadım ?\n"
   ]
  },
  {
   "cell_type": "code",
   "execution_count": 35,
   "metadata": {},
   "outputs": [
    {
     "data": {
      "text/html": [
       "<div>\n",
       "<style scoped>\n",
       "    .dataframe tbody tr th:only-of-type {\n",
       "        vertical-align: middle;\n",
       "    }\n",
       "\n",
       "    .dataframe tbody tr th {\n",
       "        vertical-align: top;\n",
       "    }\n",
       "\n",
       "    .dataframe thead th {\n",
       "        text-align: right;\n",
       "    }\n",
       "</style>\n",
       "<table border=\"1\" class=\"dataframe\">\n",
       "  <thead>\n",
       "    <tr style=\"text-align: right;\">\n",
       "      <th></th>\n",
       "      <th>esik_deger</th>\n",
       "      <th>TOTAL_REVENUE_aykırı</th>\n",
       "      <th>TOTAL_REVENUE_aykırı_log</th>\n",
       "      <th>TOTAL_EXPENDITURE_aykırı</th>\n",
       "      <th>TOTAL_EXPENDITURE_aykırı_log</th>\n",
       "    </tr>\n",
       "  </thead>\n",
       "  <tbody>\n",
       "    <tr>\n",
       "      <th>0</th>\n",
       "      <td>0.0</td>\n",
       "      <td>858.0</td>\n",
       "      <td>858.0</td>\n",
       "      <td>858.0</td>\n",
       "      <td>858.0</td>\n",
       "    </tr>\n",
       "    <tr>\n",
       "      <th>1</th>\n",
       "      <td>0.5</td>\n",
       "      <td>321.0</td>\n",
       "      <td>502.0</td>\n",
       "      <td>315.0</td>\n",
       "      <td>499.0</td>\n",
       "    </tr>\n",
       "    <tr>\n",
       "      <th>2</th>\n",
       "      <td>1.0</td>\n",
       "      <td>246.0</td>\n",
       "      <td>218.0</td>\n",
       "      <td>246.0</td>\n",
       "      <td>221.0</td>\n",
       "    </tr>\n",
       "    <tr>\n",
       "      <th>3</th>\n",
       "      <td>1.5</td>\n",
       "      <td>195.0</td>\n",
       "      <td>58.0</td>\n",
       "      <td>195.0</td>\n",
       "      <td>62.0</td>\n",
       "    </tr>\n",
       "    <tr>\n",
       "      <th>4</th>\n",
       "      <td>2.0</td>\n",
       "      <td>161.0</td>\n",
       "      <td>15.0</td>\n",
       "      <td>160.0</td>\n",
       "      <td>16.0</td>\n",
       "    </tr>\n",
       "    <tr>\n",
       "      <th>5</th>\n",
       "      <td>2.5</td>\n",
       "      <td>132.0</td>\n",
       "      <td>0.0</td>\n",
       "      <td>134.0</td>\n",
       "      <td>0.0</td>\n",
       "    </tr>\n",
       "    <tr>\n",
       "      <th>6</th>\n",
       "      <td>3.0</td>\n",
       "      <td>111.0</td>\n",
       "      <td>0.0</td>\n",
       "      <td>109.0</td>\n",
       "      <td>0.0</td>\n",
       "    </tr>\n",
       "    <tr>\n",
       "      <th>7</th>\n",
       "      <td>3.5</td>\n",
       "      <td>90.0</td>\n",
       "      <td>0.0</td>\n",
       "      <td>95.0</td>\n",
       "      <td>0.0</td>\n",
       "    </tr>\n",
       "    <tr>\n",
       "      <th>8</th>\n",
       "      <td>4.0</td>\n",
       "      <td>70.0</td>\n",
       "      <td>0.0</td>\n",
       "      <td>67.0</td>\n",
       "      <td>0.0</td>\n",
       "    </tr>\n",
       "    <tr>\n",
       "      <th>9</th>\n",
       "      <td>4.5</td>\n",
       "      <td>54.0</td>\n",
       "      <td>0.0</td>\n",
       "      <td>56.0</td>\n",
       "      <td>0.0</td>\n",
       "    </tr>\n",
       "  </tbody>\n",
       "</table>\n",
       "</div>"
      ],
      "text/plain": [
       "   esik_deger  TOTAL_REVENUE_aykırı  TOTAL_REVENUE_aykırı_log  \\\n",
       "0         0.0                 858.0                     858.0   \n",
       "1         0.5                 321.0                     502.0   \n",
       "2         1.0                 246.0                     218.0   \n",
       "3         1.5                 195.0                      58.0   \n",
       "4         2.0                 161.0                      15.0   \n",
       "5         2.5                 132.0                       0.0   \n",
       "6         3.0                 111.0                       0.0   \n",
       "7         3.5                  90.0                       0.0   \n",
       "8         4.0                  70.0                       0.0   \n",
       "9         4.5                  54.0                       0.0   \n",
       "\n",
       "   TOTAL_EXPENDITURE_aykırı  TOTAL_EXPENDITURE_aykırı_log  \n",
       "0                     858.0                         858.0  \n",
       "1                     315.0                         499.0  \n",
       "2                     246.0                         221.0  \n",
       "3                     195.0                          62.0  \n",
       "4                     160.0                          16.0  \n",
       "5                     134.0                           0.0  \n",
       "6                     109.0                           0.0  \n",
       "7                      95.0                           0.0  \n",
       "8                      67.0                           0.0  \n",
       "9                      56.0                           0.0  "
      ]
     },
     "execution_count": 35,
     "metadata": {},
     "output_type": "execute_result"
    }
   ],
   "source": [
    "dfson = pd.DataFrame(columns = [\"esik_deger\",\"TOTAL_REVENUE_aykırı\",\"TOTAL_REVENUE_aykırı_log\",\"TOTAL_EXPENDITURE_aykırı\",\"TOTAL_EXPENDITURE_aykırı_log\"])\n",
    "\n",
    "QTR1, QTR3 = np.percentile(df.TOTAL_REVENUE,[25,75])\n",
    "\n",
    "stpr = QTR3 - QTR1\n",
    "\n",
    "QTRL1, QTRL3 = np.percentile(np.log(df.TOTAL_REVENUE),[25,75])\n",
    "\n",
    "stprl = QTRL3 - QTRL1\n",
    "\n",
    "QTE1, QTE3  = np.percentile(df.TOTAL_EXPENDITURE,[25,75])\n",
    "\n",
    "stpe = QTE3 - QTE1\n",
    "\n",
    "QTEL1, QTEL3 = np.percentile(np.log(df.TOTAL_EXPENDITURE),[25,75])\n",
    "\n",
    "stpel = QTEL3 - QTEL1\n",
    "\n",
    "for i in np.arange(0,5,0.5):\n",
    "    \n",
    "    max_lmt_TOTAL_REVENUE = QTR3 + stpr*i\n",
    "    min_lmt_TOTAL_REVENUE = QTR1 - stpr*i\n",
    "    \n",
    "    max_lmt_TOTAL_REVENUE_l = QTRL3 + stprl*i\n",
    "    min_lmt_TOTAL_REVENUE_l = QTRL1 - stprl*i\n",
    "    \n",
    "    max_lmt_TOTAL_EXPENDITURE = QTE3 + stpe*i\n",
    "    min_lmt_TOTAL_EXPENDITURE = QTE1 - stpe*i\n",
    "    \n",
    "    max_lmt_TOTAL_EXPENDITURE_l = QTEL3 + stpel*i\n",
    "    min_lmt_TOTAL_EXPENDITURE_l = QTEL1 - stpel*i\n",
    "    \n",
    "    TOTAL_REVENUE_aykırı = len(np.where((df.TOTAL_REVENUE > max_lmt_TOTAL_REVENUE) | (df.TOTAL_REVENUE < min_lmt_TOTAL_REVENUE))[0])\n",
    "    TOTAL_REVENUE_aykırı_log = len(np.where((np.log(df.TOTAL_REVENUE) > max_lmt_TOTAL_REVENUE_l) | (np.log(df.TOTAL_REVENUE)< min_lmt_TOTAL_REVENUE_l))[0])    \n",
    "    \n",
    "    TOTAL_EXPENDITURE_aykırı = len(np.where((df.TOTAL_EXPENDITURE > max_lmt_TOTAL_EXPENDITURE) | (df.TOTAL_EXPENDITURE < min_lmt_TOTAL_EXPENDITURE))[0])\n",
    "    TOTAL_EXPENDITURE_aykırı_log = len(np.where((np.log(df.TOTAL_EXPENDITURE) > max_lmt_TOTAL_EXPENDITURE_l) | (np.log(df.TOTAL_EXPENDITURE)< min_lmt_TOTAL_EXPENDITURE_l))[0])    \n",
    "    \n",
    "    dfson =dfson.append({ \"esik_deger\" : i, \"TOTAL_REVENUE_aykırı\" : TOTAL_REVENUE_aykırı, \"TOTAL_REVENUE_aykırı_log\" : TOTAL_REVENUE_aykırı_log, \"TOTAL_EXPENDITURE_aykırı\" : TOTAL_EXPENDITURE_aykırı, \"TOTAL_EXPENDITURE_aykırı_log\" : TOTAL_EXPENDITURE_aykırı_log }, ignore_index=True)\n",
    "    \n",
    "    \n",
    "    \n",
    "dfson    \n",
    "    "
   ]
  },
  {
   "cell_type": "markdown",
   "metadata": {},
   "source": [
    "Bir kez daha gördük ki değerlerin logaritmik karşılığı alınınca aykırı değerler ciddi anlamda azalıyor. Fakat akla gelen soru:\n",
    "\n",
    "Düşünelim ki elimizdeki reel veri ciddi anlamda aykırı değer taşıdığı için her bir değerin logaritması alınırak data üzerinde manipilasyon yapıyoruz.  Manipule olmuş bu değerler ile bir makine öğrenmesi gerçekleştiriyoruz. Test datalarda manipule verilerden elde edildiği için kusursuz bir sonuç elde ediyoruz. Real dünyaya geri döndüğümüzde gelecek olan veriler logaritmik olmayacak. Peki girdi olarak kabul ettiğimiz bu gerçek veriler logaritmik bir regrasyondan oluşturulmuş bir öğretide bize doğru sonuç verebilecek mi ? Gerçek girdilerin de logaritmik alsak çıkan sonucu ters logaritmasını mı almak gerekecek ? x=Gerçek , y =Gerçek , x= log ise y = ?"
   ]
  },
  {
   "cell_type": "markdown",
   "metadata": {},
   "source": [
    "## BÜTÇE AÇIĞI\n",
    "\n",
    "Datalar karışmasın diye yeni bir datafream oluşturalım."
   ]
  },
  {
   "cell_type": "code",
   "execution_count": 36,
   "metadata": {},
   "outputs": [],
   "source": [
    "df_but = pd.read_csv(\"/Users/aytackolukisa/Desktop/Jupiter_Dosyaları/states_all_extended.csv\")"
   ]
  },
  {
   "cell_type": "code",
   "execution_count": 37,
   "metadata": {},
   "outputs": [],
   "source": [
    "df_but = df_but.drop([\"PRIMARY_KEY\",\"STATE\"],axis=1)"
   ]
  },
  {
   "cell_type": "code",
   "execution_count": 38,
   "metadata": {},
   "outputs": [],
   "source": [
    "def ortalama (variable):\n",
    "    a=df_but.groupby('YEAR')[variable].mean()\n",
    "    liste=np.arange(len(a))\n",
    "    for i in liste :\n",
    "        df_but[variable].fillna(a.values[i], inplace = True)"
   ]
  },
  {
   "cell_type": "code",
   "execution_count": 42,
   "metadata": {},
   "outputs": [
    {
     "data": {
      "text/plain": [
       "YEAR                    0.0\n",
       "ENROLL                  0.0\n",
       "TOTAL_REVENUE           0.0\n",
       "FEDERAL_REVENUE         0.0\n",
       "STATE_REVENUE           0.0\n",
       "                       ... \n",
       "G08_AM_A_MATHEMATICS    0.0\n",
       "G08_HP_A_READING        0.0\n",
       "G08_HP_A_MATHEMATICS    0.0\n",
       "G08_TR_A_READING        0.0\n",
       "G08_TR_A_MATHEMATICS    0.0\n",
       "Length: 264, dtype: float64"
      ]
     },
     "execution_count": 42,
     "metadata": {},
     "output_type": "execute_result"
    }
   ],
   "source": [
    "liste_ =df_but.columns\n",
    "for x in liste_:\n",
    "    ortalama(x)\n",
    "    \n",
    "df_but.isnull().sum()*100/len(df1)"
   ]
  },
  {
   "cell_type": "code",
   "execution_count": 43,
   "metadata": {},
   "outputs": [],
   "source": [
    "df_but[\"Butce_acıgı\"] = df_but.TOTAL_EXPENDITURE - df_but.TOTAL_REVENUE"
   ]
  },
  {
   "cell_type": "code",
   "execution_count": 44,
   "metadata": {},
   "outputs": [
    {
     "data": {
      "text/html": [
       "<div>\n",
       "<style scoped>\n",
       "    .dataframe tbody tr th:only-of-type {\n",
       "        vertical-align: middle;\n",
       "    }\n",
       "\n",
       "    .dataframe tbody tr th {\n",
       "        vertical-align: top;\n",
       "    }\n",
       "\n",
       "    .dataframe thead th {\n",
       "        text-align: right;\n",
       "    }\n",
       "</style>\n",
       "<table border=\"1\" class=\"dataframe\">\n",
       "  <thead>\n",
       "    <tr style=\"text-align: right;\">\n",
       "      <th></th>\n",
       "      <th>YEAR</th>\n",
       "      <th>ENROLL</th>\n",
       "      <th>TOTAL_REVENUE</th>\n",
       "      <th>FEDERAL_REVENUE</th>\n",
       "      <th>STATE_REVENUE</th>\n",
       "      <th>LOCAL_REVENUE</th>\n",
       "      <th>TOTAL_EXPENDITURE</th>\n",
       "      <th>INSTRUCTION_EXPENDITURE</th>\n",
       "      <th>SUPPORT_SERVICES_EXPENDITURE</th>\n",
       "      <th>OTHER_EXPENDITURE</th>\n",
       "      <th>...</th>\n",
       "      <th>G08_HI_A_MATHEMATICS</th>\n",
       "      <th>G08_AS_A_READING</th>\n",
       "      <th>G08_AS_A_MATHEMATICS</th>\n",
       "      <th>G08_AM_A_READING</th>\n",
       "      <th>G08_AM_A_MATHEMATICS</th>\n",
       "      <th>G08_HP_A_READING</th>\n",
       "      <th>G08_HP_A_MATHEMATICS</th>\n",
       "      <th>G08_TR_A_READING</th>\n",
       "      <th>G08_TR_A_MATHEMATICS</th>\n",
       "      <th>Butce_acıgı</th>\n",
       "    </tr>\n",
       "  </thead>\n",
       "  <tbody>\n",
       "    <tr>\n",
       "      <th>0</th>\n",
       "      <td>1992</td>\n",
       "      <td>802054.333333</td>\n",
       "      <td>2.678885e+06</td>\n",
       "      <td>3.041770e+05</td>\n",
       "      <td>1.659028e+06</td>\n",
       "      <td>7.156800e+05</td>\n",
       "      <td>2.653798e+06</td>\n",
       "      <td>1.481703e+06</td>\n",
       "      <td>7.350360e+05</td>\n",
       "      <td>248234.784314</td>\n",
       "      <td>...</td>\n",
       "      <td>269.897959</td>\n",
       "      <td>276.354839</td>\n",
       "      <td>304.032258</td>\n",
       "      <td>248.307692</td>\n",
       "      <td>260.461538</td>\n",
       "      <td>249.0</td>\n",
       "      <td>266.0</td>\n",
       "      <td>268.5</td>\n",
       "      <td>286.3</td>\n",
       "      <td>-25087.000000</td>\n",
       "    </tr>\n",
       "    <tr>\n",
       "      <th>1</th>\n",
       "      <td>1992</td>\n",
       "      <td>802054.333333</td>\n",
       "      <td>1.049591e+06</td>\n",
       "      <td>1.067800e+05</td>\n",
       "      <td>7.207110e+05</td>\n",
       "      <td>2.221000e+05</td>\n",
       "      <td>9.724880e+05</td>\n",
       "      <td>4.983620e+05</td>\n",
       "      <td>3.509020e+05</td>\n",
       "      <td>248234.784314</td>\n",
       "      <td>...</td>\n",
       "      <td>269.897959</td>\n",
       "      <td>276.354839</td>\n",
       "      <td>304.032258</td>\n",
       "      <td>248.307692</td>\n",
       "      <td>260.461538</td>\n",
       "      <td>249.0</td>\n",
       "      <td>266.0</td>\n",
       "      <td>268.5</td>\n",
       "      <td>286.3</td>\n",
       "      <td>-77103.000000</td>\n",
       "    </tr>\n",
       "    <tr>\n",
       "      <th>2</th>\n",
       "      <td>1992</td>\n",
       "      <td>802054.333333</td>\n",
       "      <td>3.258079e+06</td>\n",
       "      <td>2.978880e+05</td>\n",
       "      <td>1.369815e+06</td>\n",
       "      <td>1.590376e+06</td>\n",
       "      <td>3.401580e+06</td>\n",
       "      <td>1.435908e+06</td>\n",
       "      <td>1.007732e+06</td>\n",
       "      <td>248234.784314</td>\n",
       "      <td>...</td>\n",
       "      <td>269.897959</td>\n",
       "      <td>276.354839</td>\n",
       "      <td>304.032258</td>\n",
       "      <td>248.307692</td>\n",
       "      <td>260.461538</td>\n",
       "      <td>249.0</td>\n",
       "      <td>266.0</td>\n",
       "      <td>268.5</td>\n",
       "      <td>286.3</td>\n",
       "      <td>143501.000000</td>\n",
       "    </tr>\n",
       "    <tr>\n",
       "      <th>3</th>\n",
       "      <td>1992</td>\n",
       "      <td>802054.333333</td>\n",
       "      <td>1.711959e+06</td>\n",
       "      <td>1.785710e+05</td>\n",
       "      <td>9.587850e+05</td>\n",
       "      <td>5.746030e+05</td>\n",
       "      <td>1.743022e+06</td>\n",
       "      <td>9.643230e+05</td>\n",
       "      <td>4.834880e+05</td>\n",
       "      <td>248234.784314</td>\n",
       "      <td>...</td>\n",
       "      <td>269.897959</td>\n",
       "      <td>276.354839</td>\n",
       "      <td>304.032258</td>\n",
       "      <td>248.307692</td>\n",
       "      <td>260.461538</td>\n",
       "      <td>249.0</td>\n",
       "      <td>266.0</td>\n",
       "      <td>268.5</td>\n",
       "      <td>286.3</td>\n",
       "      <td>31063.000000</td>\n",
       "    </tr>\n",
       "    <tr>\n",
       "      <th>4</th>\n",
       "      <td>1992</td>\n",
       "      <td>802054.333333</td>\n",
       "      <td>2.626002e+07</td>\n",
       "      <td>2.072470e+06</td>\n",
       "      <td>1.654651e+07</td>\n",
       "      <td>7.641041e+06</td>\n",
       "      <td>2.713883e+07</td>\n",
       "      <td>1.435892e+07</td>\n",
       "      <td>8.520926e+06</td>\n",
       "      <td>248234.784314</td>\n",
       "      <td>...</td>\n",
       "      <td>269.897959</td>\n",
       "      <td>276.354839</td>\n",
       "      <td>304.032258</td>\n",
       "      <td>248.307692</td>\n",
       "      <td>260.461538</td>\n",
       "      <td>249.0</td>\n",
       "      <td>266.0</td>\n",
       "      <td>268.5</td>\n",
       "      <td>286.3</td>\n",
       "      <td>878807.000000</td>\n",
       "    </tr>\n",
       "    <tr>\n",
       "      <th>...</th>\n",
       "      <td>...</td>\n",
       "      <td>...</td>\n",
       "      <td>...</td>\n",
       "      <td>...</td>\n",
       "      <td>...</td>\n",
       "      <td>...</td>\n",
       "      <td>...</td>\n",
       "      <td>...</td>\n",
       "      <td>...</td>\n",
       "      <td>...</td>\n",
       "      <td>...</td>\n",
       "      <td>...</td>\n",
       "      <td>...</td>\n",
       "      <td>...</td>\n",
       "      <td>...</td>\n",
       "      <td>...</td>\n",
       "      <td>...</td>\n",
       "      <td>...</td>\n",
       "      <td>...</td>\n",
       "      <td>...</td>\n",
       "      <td>...</td>\n",
       "    </tr>\n",
       "    <tr>\n",
       "      <th>1710</th>\n",
       "      <td>2019</td>\n",
       "      <td>802054.333333</td>\n",
       "      <td>4.572764e+06</td>\n",
       "      <td>2.970296e+05</td>\n",
       "      <td>2.088314e+06</td>\n",
       "      <td>2.187420e+06</td>\n",
       "      <td>4.653591e+06</td>\n",
       "      <td>2.454000e+06</td>\n",
       "      <td>1.370149e+06</td>\n",
       "      <td>248234.784314</td>\n",
       "      <td>...</td>\n",
       "      <td>278.000000</td>\n",
       "      <td>286.000000</td>\n",
       "      <td>315.000000</td>\n",
       "      <td>248.307692</td>\n",
       "      <td>260.461538</td>\n",
       "      <td>249.0</td>\n",
       "      <td>266.0</td>\n",
       "      <td>269.0</td>\n",
       "      <td>293.0</td>\n",
       "      <td>80826.647059</td>\n",
       "    </tr>\n",
       "    <tr>\n",
       "      <th>1711</th>\n",
       "      <td>2019</td>\n",
       "      <td>802054.333333</td>\n",
       "      <td>4.572764e+06</td>\n",
       "      <td>2.970296e+05</td>\n",
       "      <td>2.088314e+06</td>\n",
       "      <td>2.187420e+06</td>\n",
       "      <td>4.653591e+06</td>\n",
       "      <td>2.454000e+06</td>\n",
       "      <td>1.370149e+06</td>\n",
       "      <td>248234.784314</td>\n",
       "      <td>...</td>\n",
       "      <td>267.000000</td>\n",
       "      <td>285.000000</td>\n",
       "      <td>315.000000</td>\n",
       "      <td>237.000000</td>\n",
       "      <td>259.000000</td>\n",
       "      <td>249.0</td>\n",
       "      <td>266.0</td>\n",
       "      <td>263.0</td>\n",
       "      <td>292.0</td>\n",
       "      <td>80826.647059</td>\n",
       "    </tr>\n",
       "    <tr>\n",
       "      <th>1712</th>\n",
       "      <td>2019</td>\n",
       "      <td>802054.333333</td>\n",
       "      <td>4.572764e+06</td>\n",
       "      <td>2.970296e+05</td>\n",
       "      <td>2.088314e+06</td>\n",
       "      <td>2.187420e+06</td>\n",
       "      <td>4.653591e+06</td>\n",
       "      <td>2.454000e+06</td>\n",
       "      <td>1.370149e+06</td>\n",
       "      <td>248234.784314</td>\n",
       "      <td>...</td>\n",
       "      <td>269.897959</td>\n",
       "      <td>276.354839</td>\n",
       "      <td>304.032258</td>\n",
       "      <td>248.307692</td>\n",
       "      <td>260.461538</td>\n",
       "      <td>249.0</td>\n",
       "      <td>266.0</td>\n",
       "      <td>249.0</td>\n",
       "      <td>286.3</td>\n",
       "      <td>80826.647059</td>\n",
       "    </tr>\n",
       "    <tr>\n",
       "      <th>1713</th>\n",
       "      <td>2019</td>\n",
       "      <td>802054.333333</td>\n",
       "      <td>4.572764e+06</td>\n",
       "      <td>2.970296e+05</td>\n",
       "      <td>2.088314e+06</td>\n",
       "      <td>2.187420e+06</td>\n",
       "      <td>4.653591e+06</td>\n",
       "      <td>2.454000e+06</td>\n",
       "      <td>1.370149e+06</td>\n",
       "      <td>248234.784314</td>\n",
       "      <td>...</td>\n",
       "      <td>273.000000</td>\n",
       "      <td>277.000000</td>\n",
       "      <td>294.000000</td>\n",
       "      <td>253.000000</td>\n",
       "      <td>267.000000</td>\n",
       "      <td>249.0</td>\n",
       "      <td>266.0</td>\n",
       "      <td>268.0</td>\n",
       "      <td>276.0</td>\n",
       "      <td>80826.647059</td>\n",
       "    </tr>\n",
       "    <tr>\n",
       "      <th>1714</th>\n",
       "      <td>2019</td>\n",
       "      <td>802054.333333</td>\n",
       "      <td>4.572764e+06</td>\n",
       "      <td>2.970296e+05</td>\n",
       "      <td>2.088314e+06</td>\n",
       "      <td>2.187420e+06</td>\n",
       "      <td>4.653591e+06</td>\n",
       "      <td>2.454000e+06</td>\n",
       "      <td>1.370149e+06</td>\n",
       "      <td>248234.784314</td>\n",
       "      <td>...</td>\n",
       "      <td>274.000000</td>\n",
       "      <td>276.354839</td>\n",
       "      <td>304.032258</td>\n",
       "      <td>243.000000</td>\n",
       "      <td>258.000000</td>\n",
       "      <td>249.0</td>\n",
       "      <td>266.0</td>\n",
       "      <td>268.5</td>\n",
       "      <td>274.0</td>\n",
       "      <td>80826.647059</td>\n",
       "    </tr>\n",
       "  </tbody>\n",
       "</table>\n",
       "<p>1715 rows × 265 columns</p>\n",
       "</div>"
      ],
      "text/plain": [
       "      YEAR         ENROLL  TOTAL_REVENUE  FEDERAL_REVENUE  STATE_REVENUE  \\\n",
       "0     1992  802054.333333   2.678885e+06     3.041770e+05   1.659028e+06   \n",
       "1     1992  802054.333333   1.049591e+06     1.067800e+05   7.207110e+05   \n",
       "2     1992  802054.333333   3.258079e+06     2.978880e+05   1.369815e+06   \n",
       "3     1992  802054.333333   1.711959e+06     1.785710e+05   9.587850e+05   \n",
       "4     1992  802054.333333   2.626002e+07     2.072470e+06   1.654651e+07   \n",
       "...    ...            ...            ...              ...            ...   \n",
       "1710  2019  802054.333333   4.572764e+06     2.970296e+05   2.088314e+06   \n",
       "1711  2019  802054.333333   4.572764e+06     2.970296e+05   2.088314e+06   \n",
       "1712  2019  802054.333333   4.572764e+06     2.970296e+05   2.088314e+06   \n",
       "1713  2019  802054.333333   4.572764e+06     2.970296e+05   2.088314e+06   \n",
       "1714  2019  802054.333333   4.572764e+06     2.970296e+05   2.088314e+06   \n",
       "\n",
       "      LOCAL_REVENUE  TOTAL_EXPENDITURE  INSTRUCTION_EXPENDITURE  \\\n",
       "0      7.156800e+05       2.653798e+06             1.481703e+06   \n",
       "1      2.221000e+05       9.724880e+05             4.983620e+05   \n",
       "2      1.590376e+06       3.401580e+06             1.435908e+06   \n",
       "3      5.746030e+05       1.743022e+06             9.643230e+05   \n",
       "4      7.641041e+06       2.713883e+07             1.435892e+07   \n",
       "...             ...                ...                      ...   \n",
       "1710   2.187420e+06       4.653591e+06             2.454000e+06   \n",
       "1711   2.187420e+06       4.653591e+06             2.454000e+06   \n",
       "1712   2.187420e+06       4.653591e+06             2.454000e+06   \n",
       "1713   2.187420e+06       4.653591e+06             2.454000e+06   \n",
       "1714   2.187420e+06       4.653591e+06             2.454000e+06   \n",
       "\n",
       "      SUPPORT_SERVICES_EXPENDITURE  OTHER_EXPENDITURE  ...  \\\n",
       "0                     7.350360e+05      248234.784314  ...   \n",
       "1                     3.509020e+05      248234.784314  ...   \n",
       "2                     1.007732e+06      248234.784314  ...   \n",
       "3                     4.834880e+05      248234.784314  ...   \n",
       "4                     8.520926e+06      248234.784314  ...   \n",
       "...                            ...                ...  ...   \n",
       "1710                  1.370149e+06      248234.784314  ...   \n",
       "1711                  1.370149e+06      248234.784314  ...   \n",
       "1712                  1.370149e+06      248234.784314  ...   \n",
       "1713                  1.370149e+06      248234.784314  ...   \n",
       "1714                  1.370149e+06      248234.784314  ...   \n",
       "\n",
       "      G08_HI_A_MATHEMATICS  G08_AS_A_READING  G08_AS_A_MATHEMATICS  \\\n",
       "0               269.897959        276.354839            304.032258   \n",
       "1               269.897959        276.354839            304.032258   \n",
       "2               269.897959        276.354839            304.032258   \n",
       "3               269.897959        276.354839            304.032258   \n",
       "4               269.897959        276.354839            304.032258   \n",
       "...                    ...               ...                   ...   \n",
       "1710            278.000000        286.000000            315.000000   \n",
       "1711            267.000000        285.000000            315.000000   \n",
       "1712            269.897959        276.354839            304.032258   \n",
       "1713            273.000000        277.000000            294.000000   \n",
       "1714            274.000000        276.354839            304.032258   \n",
       "\n",
       "      G08_AM_A_READING  G08_AM_A_MATHEMATICS  G08_HP_A_READING  \\\n",
       "0           248.307692            260.461538             249.0   \n",
       "1           248.307692            260.461538             249.0   \n",
       "2           248.307692            260.461538             249.0   \n",
       "3           248.307692            260.461538             249.0   \n",
       "4           248.307692            260.461538             249.0   \n",
       "...                ...                   ...               ...   \n",
       "1710        248.307692            260.461538             249.0   \n",
       "1711        237.000000            259.000000             249.0   \n",
       "1712        248.307692            260.461538             249.0   \n",
       "1713        253.000000            267.000000             249.0   \n",
       "1714        243.000000            258.000000             249.0   \n",
       "\n",
       "      G08_HP_A_MATHEMATICS  G08_TR_A_READING  G08_TR_A_MATHEMATICS  \\\n",
       "0                    266.0             268.5                 286.3   \n",
       "1                    266.0             268.5                 286.3   \n",
       "2                    266.0             268.5                 286.3   \n",
       "3                    266.0             268.5                 286.3   \n",
       "4                    266.0             268.5                 286.3   \n",
       "...                    ...               ...                   ...   \n",
       "1710                 266.0             269.0                 293.0   \n",
       "1711                 266.0             263.0                 292.0   \n",
       "1712                 266.0             249.0                 286.3   \n",
       "1713                 266.0             268.0                 276.0   \n",
       "1714                 266.0             268.5                 274.0   \n",
       "\n",
       "        Butce_acıgı  \n",
       "0     -25087.000000  \n",
       "1     -77103.000000  \n",
       "2     143501.000000  \n",
       "3      31063.000000  \n",
       "4     878807.000000  \n",
       "...             ...  \n",
       "1710   80826.647059  \n",
       "1711   80826.647059  \n",
       "1712   80826.647059  \n",
       "1713   80826.647059  \n",
       "1714   80826.647059  \n",
       "\n",
       "[1715 rows x 265 columns]"
      ]
     },
     "execution_count": 44,
     "metadata": {},
     "output_type": "execute_result"
    }
   ],
   "source": []
  },
  {
   "cell_type": "markdown",
   "metadata": {},
   "source": [
    "### TUKEY YÖNTEMİ İLE AYKIRI DEĞERLERİN BULUNMASI"
   ]
  },
  {
   "cell_type": "code",
   "execution_count": 47,
   "metadata": {},
   "outputs": [
    {
     "data": {
      "text/html": [
       "<div>\n",
       "<style scoped>\n",
       "    .dataframe tbody tr th:only-of-type {\n",
       "        vertical-align: middle;\n",
       "    }\n",
       "\n",
       "    .dataframe tbody tr th {\n",
       "        vertical-align: top;\n",
       "    }\n",
       "\n",
       "    .dataframe thead th {\n",
       "        text-align: right;\n",
       "    }\n",
       "</style>\n",
       "<table border=\"1\" class=\"dataframe\">\n",
       "  <thead>\n",
       "    <tr style=\"text-align: right;\">\n",
       "      <th></th>\n",
       "      <th>esik_degeri</th>\n",
       "      <th>Butce_aykiri_deger</th>\n",
       "    </tr>\n",
       "  </thead>\n",
       "  <tbody>\n",
       "    <tr>\n",
       "      <th>0</th>\n",
       "      <td>0.0</td>\n",
       "      <td>25991.0</td>\n",
       "    </tr>\n",
       "    <tr>\n",
       "      <th>1</th>\n",
       "      <td>0.5</td>\n",
       "      <td>22296.0</td>\n",
       "    </tr>\n",
       "    <tr>\n",
       "      <th>2</th>\n",
       "      <td>1.0</td>\n",
       "      <td>20678.0</td>\n",
       "    </tr>\n",
       "    <tr>\n",
       "      <th>3</th>\n",
       "      <td>1.5</td>\n",
       "      <td>18759.0</td>\n",
       "    </tr>\n",
       "    <tr>\n",
       "      <th>4</th>\n",
       "      <td>2.0</td>\n",
       "      <td>17316.0</td>\n",
       "    </tr>\n",
       "    <tr>\n",
       "      <th>5</th>\n",
       "      <td>2.5</td>\n",
       "      <td>16691.0</td>\n",
       "    </tr>\n",
       "    <tr>\n",
       "      <th>6</th>\n",
       "      <td>3.0</td>\n",
       "      <td>15643.0</td>\n",
       "    </tr>\n",
       "    <tr>\n",
       "      <th>7</th>\n",
       "      <td>3.5</td>\n",
       "      <td>14739.0</td>\n",
       "    </tr>\n",
       "    <tr>\n",
       "      <th>8</th>\n",
       "      <td>4.0</td>\n",
       "      <td>13538.0</td>\n",
       "    </tr>\n",
       "    <tr>\n",
       "      <th>9</th>\n",
       "      <td>4.5</td>\n",
       "      <td>13169.0</td>\n",
       "    </tr>\n",
       "  </tbody>\n",
       "</table>\n",
       "</div>"
      ],
      "text/plain": [
       "   esik_degeri  Butce_aykiri_deger\n",
       "0          0.0             25991.0\n",
       "1          0.5             22296.0\n",
       "2          1.0             20678.0\n",
       "3          1.5             18759.0\n",
       "4          2.0             17316.0\n",
       "5          2.5             16691.0\n",
       "6          3.0             15643.0\n",
       "7          3.5             14739.0\n",
       "8          4.0             13538.0\n",
       "9          4.5             13169.0"
      ]
     },
     "execution_count": 47,
     "metadata": {},
     "output_type": "execute_result"
    }
   ],
   "source": [
    "Q1, Q3 = np.percentile(df_but.Butce_acıgı,[25,75])\n",
    "step = Q3 - Q1\n",
    "aykırıdeger_butce = pd.DataFrame(columns = [\"esik_degeri\", \"Butce_aykiri_deger\"])\n",
    "for i in np.arange(0,5,0.5):\n",
    "    max_sınır = Q3 + step*i\n",
    "    min_sınır = Q1 - step*i\n",
    "    aykırı_deger = len(np.where((df_but > max_sınır) | (df_but < min_sınır))[0])\n",
    "    aykırıdeger_butce = aykırıdeger_butce.append({\"esik_degeri\" : i, \"Butce_aykiri_deger\" : aykırı_deger}, ignore_index = True )\n",
    "\n",
    "aykırıdeger_butce"
   ]
  },
  {
   "cell_type": "markdown",
   "metadata": {},
   "source": [
    "Butçe değişkenini dağılım olarak histogramda aykırı değer olarakda boxplotta ve eşik_/aykırı değer plot grafiklerinde gösterelim.\n"
   ]
  },
  {
   "cell_type": "code",
   "execution_count": 52,
   "metadata": {},
   "outputs": [
    {
     "data": {
      "image/png": "[encoded data removed]",
      "text/plain": [
       "<Figure size 432x288 with 1 Axes>"
      ]
     },
     "metadata": {
      "needs_background": "light"
     },
     "output_type": "display_data"
    }
   ],
   "source": [
    "plt.hist(aykırıdeger_butce.Butce_aykiri_deger)\n",
    "plt.title(\"Butce_aykiri_deger dağılımı\", fontdict=baslik_font)\n",
    "plt.xlabel(\"Butce_aykiri_deger sayısı\")\n",
    "plt.show()"
   ]
  },
  {
   "cell_type": "code",
   "execution_count": null,
   "metadata": {},
   "outputs": [],
   "source": [
    "# Dağılımın kesinlikle normal bir dağılım olmadığı gözükmektedir."
   ]
  },
  {
   "cell_type": "code",
   "execution_count": 59,
   "metadata": {},
   "outputs": [
    {
     "data": {
      "text/plain": [
       "Text(0.5, 1.0, 'Esik_degeri / Aykırı_deger_sayısı')"
      ]
     },
     "execution_count": 59,
     "metadata": {},
     "output_type": "execute_result"
    },
    {
     "data": {
      "image/png": "[encoded data removed]",
      "text/plain": [
       "<Figure size 1080x360 with 2 Axes>"
      ]
     },
     "metadata": {
      "needs_background": "light"
     },
     "output_type": "display_data"
    }
   ],
   "source": [
    "plt.figure(figsize = (15,5))\n",
    "plt.subplot(1,2,1)\n",
    "plt.boxplot(df_but.Butce_acıgı)\n",
    "plt.title(\"Aykırı değerlerin Box pilotta gösterimi\", color=\"Purple\")\n",
    "\n",
    "plt.subplot(1,2,2)\n",
    "plt.plot(aykırıdeger_butce.esik_degeri,aykırıdeger_butce.Butce_aykiri_deger)\n",
    "plt.xlabel(\"Butce_aykiri_deger\")\n",
    "plt.ylabel(\"esik_degeri\")\n",
    "plt.title(\"Esik_degeri / Aykırı_deger_sayısı\", color =\"Green\")"
   ]
  },
  {
   "cell_type": "markdown",
   "metadata": {},
   "source": [
    "Logartimik yöntem ile değerlerde manipilasyon yapalım ve teker teker dağılmları inceleyelim"
   ]
  },
  {
   "cell_type": "code",
   "execution_count": 60,
   "metadata": {},
   "outputs": [
    {
     "data": {
      "image/png": "[encoded data removed]",
      "text/plain": [
       "<Figure size 432x288 with 1 Axes>"
      ]
     },
     "metadata": {
      "needs_background": "light"
     },
     "output_type": "display_data"
    }
   ],
   "source": [
    "plt.hist(np.log(aykırıdeger_butce.Butce_aykiri_deger))\n",
    "plt.title(\"Logaritmik_butce_aykiri_deger dağılımı\", fontdict=baslik_font)\n",
    "plt.xlabel(\"Logaritmik_butce_aykiri_deger sayısı\")\n",
    "plt.show()"
   ]
  },
  {
   "cell_type": "code",
   "execution_count": 62,
   "metadata": {},
   "outputs": [
    {
     "data": {
      "image/png": "[encoded data removed]",
      "text/plain": [
       "<Figure size 432x288 with 1 Axes>"
      ]
     },
     "metadata": {
      "needs_background": "light"
     },
     "output_type": "display_data"
    }
   ],
   "source": [
    "# Dağılım yine normal olmadı kare kök deneyelim\n",
    "plt.hist(np.sqrt(aykırıdeger_butce.Butce_aykiri_deger))\n",
    "plt.title(\"Karekök_butce_aykiri_deger dağılımı\", fontdict=baslik_font)\n",
    "plt.xlabel(\"Karekök_butce_aykiri_deger sayısı\")\n",
    "plt.show()"
   ]
  },
  {
   "cell_type": "markdown",
   "metadata": {},
   "source": [
    "Her iki yöntemde başarılı bir normal dağılım ne yazık ki sağlamadı. Peki başka yöntemler mevcut mu? "
   ]
  },
  {
   "cell_type": "code",
   "execution_count": 74,
   "metadata": {},
   "outputs": [
    {
     "data": {
      "image/png": "[encoded data removed]",
      "text/plain": [
       "<Figure size 432x288 with 1 Axes>"
      ]
     },
     "metadata": {
      "needs_background": "light"
     },
     "output_type": "display_data"
    }
   ],
   "source": [
    "from scipy.stats.mstats import winsorize\n",
    "\n",
    "winsorize_goruntulenme = winsorize(df_but[\"Butce_acıgı\"], (0.12, 0.10))\n",
    "\n",
    "plt.hist(np.sqrt(winsorize_goruntulenme))\n",
    "plt.show()"
   ]
  },
  {
   "cell_type": "code",
   "execution_count": 76,
   "metadata": {},
   "outputs": [
    {
     "data": {
      "text/plain": [
       "(array([  7.,   4.,   7.,  12.,  39.,  40.,  93., 529., 120., 333.]),\n",
       " array([ 5.85507192,  6.54455141,  7.23403089,  7.92351038,  8.61298987,\n",
       "         9.30246935,  9.99194884, 10.68142833, 11.37090781, 12.0603873 ,\n",
       "        12.74986679]),\n",
       " <BarContainer object of 10 artists>)"
      ]
     },
     "execution_count": 76,
     "metadata": {},
     "output_type": "execute_result"
    },
    {
     "data": {
      "image/png": "[encoded data removed]",
      "text/plain": [
       "<Figure size 432x288 with 1 Axes>"
      ]
     },
     "metadata": {
      "needs_background": "light"
     },
     "output_type": "display_data"
    }
   ],
   "source": [
    "# Hadi birde bunun logaritmasını alallım\n",
    "\n",
    "plt.hist(np.log(winsorize_goruntulenme))"
   ]
  },
  {
   "cell_type": "code",
   "execution_count": 77,
   "metadata": {},
   "outputs": [],
   "source": [
    "# Tüm dağılımlar incelendiğinde normal dağılımı en yakın görsel winsorizetion ile sınırlandırma yapamaktır."
   ]
  },
  {
   "cell_type": "code",
   "execution_count": 80,
   "metadata": {},
   "outputs": [
    {
     "data": {
      "image/png": "[encoded data removed]",
      "text/plain": [
       "<Figure size 432x288 with 1 Axes>"
      ]
     },
     "metadata": {
      "needs_background": "light"
     },
     "output_type": "display_data"
    }
   ],
   "source": [
    "plt.boxplot(winsorize_goruntulenme)\n",
    "plt.show()"
   ]
  },
  {
   "cell_type": "markdown",
   "metadata": {},
   "source": [
    "### BUTÇE AÇIĞI İKİ"
   ]
  },
  {
   "cell_type": "code",
   "execution_count": 81,
   "metadata": {},
   "outputs": [
    {
     "data": {
      "text/html": [
       "<div>\n",
       "<style scoped>\n",
       "    .dataframe tbody tr th:only-of-type {\n",
       "        vertical-align: middle;\n",
       "    }\n",
       "\n",
       "    .dataframe tbody tr th {\n",
       "        vertical-align: top;\n",
       "    }\n",
       "\n",
       "    .dataframe thead th {\n",
       "        text-align: right;\n",
       "    }\n",
       "</style>\n",
       "<table border=\"1\" class=\"dataframe\">\n",
       "  <thead>\n",
       "    <tr style=\"text-align: right;\">\n",
       "      <th></th>\n",
       "      <th>PRIMARY_KEY</th>\n",
       "      <th>STATE</th>\n",
       "      <th>YEAR</th>\n",
       "      <th>ENROLL</th>\n",
       "      <th>TOTAL_REVENUE</th>\n",
       "      <th>FEDERAL_REVENUE</th>\n",
       "      <th>STATE_REVENUE</th>\n",
       "      <th>LOCAL_REVENUE</th>\n",
       "      <th>TOTAL_EXPENDITURE</th>\n",
       "      <th>INSTRUCTION_EXPENDITURE</th>\n",
       "      <th>...</th>\n",
       "      <th>G08_HI_A_READING</th>\n",
       "      <th>G08_HI_A_MATHEMATICS</th>\n",
       "      <th>G08_AS_A_READING</th>\n",
       "      <th>G08_AS_A_MATHEMATICS</th>\n",
       "      <th>G08_AM_A_READING</th>\n",
       "      <th>G08_AM_A_MATHEMATICS</th>\n",
       "      <th>G08_HP_A_READING</th>\n",
       "      <th>G08_HP_A_MATHEMATICS</th>\n",
       "      <th>G08_TR_A_READING</th>\n",
       "      <th>G08_TR_A_MATHEMATICS</th>\n",
       "    </tr>\n",
       "  </thead>\n",
       "  <tbody>\n",
       "    <tr>\n",
       "      <th>0</th>\n",
       "      <td>1992_ALABAMA</td>\n",
       "      <td>ALABAMA</td>\n",
       "      <td>1992</td>\n",
       "      <td>802054.333333</td>\n",
       "      <td>2678885.0</td>\n",
       "      <td>304177.0</td>\n",
       "      <td>1659028.0</td>\n",
       "      <td>715680.0</td>\n",
       "      <td>2678885.0</td>\n",
       "      <td>1481703.0</td>\n",
       "      <td>...</td>\n",
       "      <td>253.708333</td>\n",
       "      <td>269.897959</td>\n",
       "      <td>276.354839</td>\n",
       "      <td>304.032258</td>\n",
       "      <td>248.307692</td>\n",
       "      <td>260.461538</td>\n",
       "      <td>249.0</td>\n",
       "      <td>266.0</td>\n",
       "      <td>268.5</td>\n",
       "      <td>286.3</td>\n",
       "    </tr>\n",
       "    <tr>\n",
       "      <th>1</th>\n",
       "      <td>1992_ALASKA</td>\n",
       "      <td>ALASKA</td>\n",
       "      <td>1992</td>\n",
       "      <td>802054.333333</td>\n",
       "      <td>1049591.0</td>\n",
       "      <td>106780.0</td>\n",
       "      <td>720711.0</td>\n",
       "      <td>222100.0</td>\n",
       "      <td>1049591.0</td>\n",
       "      <td>498362.0</td>\n",
       "      <td>...</td>\n",
       "      <td>253.708333</td>\n",
       "      <td>269.897959</td>\n",
       "      <td>276.354839</td>\n",
       "      <td>304.032258</td>\n",
       "      <td>248.307692</td>\n",
       "      <td>260.461538</td>\n",
       "      <td>249.0</td>\n",
       "      <td>266.0</td>\n",
       "      <td>268.5</td>\n",
       "      <td>286.3</td>\n",
       "    </tr>\n",
       "    <tr>\n",
       "      <th>2</th>\n",
       "      <td>1992_ARIZONA</td>\n",
       "      <td>ARIZONA</td>\n",
       "      <td>1992</td>\n",
       "      <td>802054.333333</td>\n",
       "      <td>3258079.0</td>\n",
       "      <td>297888.0</td>\n",
       "      <td>1369815.0</td>\n",
       "      <td>1590376.0</td>\n",
       "      <td>3258079.0</td>\n",
       "      <td>1435908.0</td>\n",
       "      <td>...</td>\n",
       "      <td>253.708333</td>\n",
       "      <td>269.897959</td>\n",
       "      <td>276.354839</td>\n",
       "      <td>304.032258</td>\n",
       "      <td>248.307692</td>\n",
       "      <td>260.461538</td>\n",
       "      <td>249.0</td>\n",
       "      <td>266.0</td>\n",
       "      <td>268.5</td>\n",
       "      <td>286.3</td>\n",
       "    </tr>\n",
       "    <tr>\n",
       "      <th>3</th>\n",
       "      <td>1992_ARKANSAS</td>\n",
       "      <td>ARKANSAS</td>\n",
       "      <td>1992</td>\n",
       "      <td>802054.333333</td>\n",
       "      <td>1711959.0</td>\n",
       "      <td>178571.0</td>\n",
       "      <td>958785.0</td>\n",
       "      <td>574603.0</td>\n",
       "      <td>1711959.0</td>\n",
       "      <td>964323.0</td>\n",
       "      <td>...</td>\n",
       "      <td>253.708333</td>\n",
       "      <td>269.897959</td>\n",
       "      <td>276.354839</td>\n",
       "      <td>304.032258</td>\n",
       "      <td>248.307692</td>\n",
       "      <td>260.461538</td>\n",
       "      <td>249.0</td>\n",
       "      <td>266.0</td>\n",
       "      <td>268.5</td>\n",
       "      <td>286.3</td>\n",
       "    </tr>\n",
       "    <tr>\n",
       "      <th>4</th>\n",
       "      <td>1992_CALIFORNIA</td>\n",
       "      <td>CALIFORNIA</td>\n",
       "      <td>1992</td>\n",
       "      <td>802054.333333</td>\n",
       "      <td>15671363.0</td>\n",
       "      <td>2072470.0</td>\n",
       "      <td>16546514.0</td>\n",
       "      <td>7641041.0</td>\n",
       "      <td>15671363.0</td>\n",
       "      <td>14358922.0</td>\n",
       "      <td>...</td>\n",
       "      <td>253.708333</td>\n",
       "      <td>269.897959</td>\n",
       "      <td>276.354839</td>\n",
       "      <td>304.032258</td>\n",
       "      <td>248.307692</td>\n",
       "      <td>260.461538</td>\n",
       "      <td>249.0</td>\n",
       "      <td>266.0</td>\n",
       "      <td>268.5</td>\n",
       "      <td>286.3</td>\n",
       "    </tr>\n",
       "  </tbody>\n",
       "</table>\n",
       "<p>5 rows × 266 columns</p>\n",
       "</div>"
      ],
      "text/plain": [
       "       PRIMARY_KEY       STATE  YEAR         ENROLL  TOTAL_REVENUE  \\\n",
       "0     1992_ALABAMA     ALABAMA  1992  802054.333333      2678885.0   \n",
       "1      1992_ALASKA      ALASKA  1992  802054.333333      1049591.0   \n",
       "2     1992_ARIZONA     ARIZONA  1992  802054.333333      3258079.0   \n",
       "3    1992_ARKANSAS    ARKANSAS  1992  802054.333333      1711959.0   \n",
       "4  1992_CALIFORNIA  CALIFORNIA  1992  802054.333333     15671363.0   \n",
       "\n",
       "   FEDERAL_REVENUE  STATE_REVENUE  LOCAL_REVENUE  TOTAL_EXPENDITURE  \\\n",
       "0         304177.0      1659028.0       715680.0          2678885.0   \n",
       "1         106780.0       720711.0       222100.0          1049591.0   \n",
       "2         297888.0      1369815.0      1590376.0          3258079.0   \n",
       "3         178571.0       958785.0       574603.0          1711959.0   \n",
       "4        2072470.0     16546514.0      7641041.0         15671363.0   \n",
       "\n",
       "   INSTRUCTION_EXPENDITURE  ...  G08_HI_A_READING  G08_HI_A_MATHEMATICS  \\\n",
       "0                1481703.0  ...        253.708333            269.897959   \n",
       "1                 498362.0  ...        253.708333            269.897959   \n",
       "2                1435908.0  ...        253.708333            269.897959   \n",
       "3                 964323.0  ...        253.708333            269.897959   \n",
       "4               14358922.0  ...        253.708333            269.897959   \n",
       "\n",
       "   G08_AS_A_READING  G08_AS_A_MATHEMATICS  G08_AM_A_READING  \\\n",
       "0        276.354839            304.032258        248.307692   \n",
       "1        276.354839            304.032258        248.307692   \n",
       "2        276.354839            304.032258        248.307692   \n",
       "3        276.354839            304.032258        248.307692   \n",
       "4        276.354839            304.032258        248.307692   \n",
       "\n",
       "   G08_AM_A_MATHEMATICS  G08_HP_A_READING  G08_HP_A_MATHEMATICS  \\\n",
       "0            260.461538             249.0                 266.0   \n",
       "1            260.461538             249.0                 266.0   \n",
       "2            260.461538             249.0                 266.0   \n",
       "3            260.461538             249.0                 266.0   \n",
       "4            260.461538             249.0                 266.0   \n",
       "\n",
       "   G08_TR_A_READING  G08_TR_A_MATHEMATICS  \n",
       "0             268.5                 286.3  \n",
       "1             268.5                 286.3  \n",
       "2             268.5                 286.3  \n",
       "3             268.5                 286.3  \n",
       "4             268.5                 286.3  \n",
       "\n",
       "[5 rows x 266 columns]"
      ]
     },
     "execution_count": 81,
     "metadata": {},
     "output_type": "execute_result"
    }
   ],
   "source": [
    "data.head()"
   ]
  },
  {
   "cell_type": "code",
   "execution_count": 82,
   "metadata": {},
   "outputs": [],
   "source": [
    "winsorize_TOTAL_REVENUE = winsorize(data.TOTAL_REVENUE, (0,0.115))\n",
    "winsorize_TOTAL_EXPENDITURE = winsorize(data.TOTAL_REVENUE, (0,0.115))"
   ]
  },
  {
   "cell_type": "code",
   "execution_count": 85,
   "metadata": {},
   "outputs": [],
   "source": [
    "data.TOTAL_REVENUE = winsorize_TOTAL_REVENUE\n",
    "data.TOTAL_EXPENDITURE = winsorize_TOTAL_EXPENDITURE"
   ]
  },
  {
   "cell_type": "code",
   "execution_count": 86,
   "metadata": {},
   "outputs": [],
   "source": [
    "data[\"Duzeltilmis_Butçe\"] = data.TOTAL_REVENUE - data.TOTAL_EXPENDITURE"
   ]
  },
  {
   "cell_type": "code",
   "execution_count": 88,
   "metadata": {},
   "outputs": [
    {
     "data": {
      "image/png": "[encoded data removed]",
      "text/plain": [
       "<Figure size 432x288 with 1 Axes>"
      ]
     },
     "metadata": {
      "needs_background": "light"
     },
     "output_type": "display_data"
    }
   ],
   "source": [
    "plt.hist(data.Duzeltilmis_Butçe)\n",
    "plt.show()"
   ]
  },
  {
   "cell_type": "code",
   "execution_count": 90,
   "metadata": {},
   "outputs": [
    {
     "data": {
      "image/png": "[encoded data removed]",
      "text/plain": [
       "<Figure size 432x288 with 1 Axes>"
      ]
     },
     "metadata": {
      "needs_background": "light"
     },
     "output_type": "display_data"
    }
   ],
   "source": [
    "plt.boxplot(data.Duzeltilmis_Butçe)\n",
    "plt.show()"
   ]
  },
  {
   "cell_type": "markdown",
   "metadata": {},
   "source": [
    "Sonuç olarak; Eğer biz değişkenleri Bütçe farkı değişkenini oluşturmadan düzeltirsek. verilergerçekçi dağılımından kayboluyor ve tek bir eksende sıkışıyor. Bu istenilen bir durum değil. Bence en doğru yöntem \"Bütçe Farkı\" değişkeni oluşturduktan sonra veriler üzerinde manipilasyon işlemlerini gerçekleştirmek."
   ]
  },
  {
   "cell_type": "code",
   "execution_count": null,
   "metadata": {},
   "outputs": [],
   "source": []
  },
  {
   "cell_type": "code",
   "execution_count": null,
   "metadata": {},
   "outputs": [],
   "source": []
  },
  {
   "cell_type": "code",
   "execution_count": null,
   "metadata": {},
   "outputs": [],
   "source": []
  }
 ],
 "metadata": {
  "kernelspec": {
   "display_name": "Python 3",
   "language": "python",
   "name": "python3"
  },
  "language_info": {
   "codemirror_mode": {
    "name": "ipython",
    "version": 3
   },
   "file_extension": ".py",
   "mimetype": "text/x-python",
   "name": "python",
   "nbconvert_exporter": "python",
   "pygments_lexer": "ipython3",
   "version": "3.8.5"
  }
 },
 "nbformat": 4,
 "nbformat_minor": 4
}
