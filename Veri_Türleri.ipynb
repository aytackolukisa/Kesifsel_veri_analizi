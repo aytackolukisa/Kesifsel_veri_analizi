{
 "cells": [
  {
   "cell_type": "markdown",
   "metadata": {},
   "source": [
    "Rank değişkeni Ordinal Değişken sınıfını içine girmketedir. Youtube verisinde binlerce Rank değişkenin olduğunu göz önüne alırsak eğer veriyi bu açıdan katogeri etmenin bir faydası olduğunu düşünmüyorum."
   ]
  },
  {
   "cell_type": "markdown",
   "metadata": {},
   "source": [
    "Yaş = Oran değişken\n",
    "\n",
    "Maaş = Oran değişken\n",
    "\n",
    "Gelir = Nominal değişken\n",
    "\n",
    "Müşteri türü = Nominal Değişken\n",
    "\n",
    "Hisse senedi fiyatı = Oran değişken"
   ]
  },
  {
   "cell_type": "code",
   "execution_count": null,
   "metadata": {},
   "outputs": [],
   "source": []
  }
 ],
 "metadata": {
  "kernelspec": {
   "display_name": "Python 3",
   "language": "python",
   "name": "python3"
  },
  "language_info": {
   "codemirror_mode": {
    "name": "ipython",
    "version": 3
   },
   "file_extension": ".py",
   "mimetype": "text/x-python",
   "name": "python",
   "nbconvert_exporter": "python",
   "pygments_lexer": "ipython3",
   "version": "3.8.5"
  }
 },
 "nbformat": 4,
 "nbformat_minor": 4
}
